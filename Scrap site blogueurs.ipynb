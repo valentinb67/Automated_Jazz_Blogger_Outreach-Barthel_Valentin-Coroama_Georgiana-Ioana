{
 "cells": [
  {
   "cell_type": "markdown",
   "id": "f1029bd2",
   "metadata": {},
   "source": [
    "#Petit test"
   ]
  },
  {
   "cell_type": "code",
   "execution_count": 2,
   "id": "fbfb7d40",
   "metadata": {},
   "outputs": [],
   "source": [
    "import sys"
   ]
  },
  {
   "cell_type": "code",
   "execution_count": 7,
   "id": "414067ba",
   "metadata": {},
   "outputs": [
    {
     "name": "stdout",
     "output_type": "stream",
     "text": [
      "3.11.5 | packaged by Anaconda, Inc. | (main, Sep 11 2023, 13:26:23) [MSC v.1916 64 bit (AMD64)]\n"
     ]
    }
   ],
   "source": [
    "print(sys.version)"
   ]
  },
  {
   "cell_type": "code",
   "execution_count": 2,
   "id": "5f515448",
   "metadata": {
    "collapsed": true
   },
   "outputs": [
    {
     "name": "stdout",
     "output_type": "stream",
     "text": [
      "Collecting httpx\n",
      "  Obtaining dependency information for httpx from https://files.pythonhosted.org/packages/41/7b/ddacf6dcebb42466abd03f368782142baa82e08fc0c1f8eaa05b4bae87d5/httpx-0.27.0-py3-none-any.whl.metadata\n",
      "  Downloading httpx-0.27.0-py3-none-any.whl.metadata (7.2 kB)\n",
      "Requirement already satisfied: anyio in c:\\users\\valen\\anaconda3\\lib\\site-packages (from httpx) (3.5.0)\n",
      "Requirement already satisfied: certifi in c:\\users\\valen\\anaconda3\\lib\\site-packages (from httpx) (2023.7.22)\n",
      "Collecting httpcore==1.* (from httpx)\n",
      "  Obtaining dependency information for httpcore==1.* from https://files.pythonhosted.org/packages/2c/93/13f25f2f78646bab97aee7680821e30bd85b2ff0fc45d5fdf5393b79716d/httpcore-1.0.4-py3-none-any.whl.metadata\n",
      "  Downloading httpcore-1.0.4-py3-none-any.whl.metadata (20 kB)\n",
      "Requirement already satisfied: idna in c:\\users\\valen\\anaconda3\\lib\\site-packages (from httpx) (3.4)\n",
      "Requirement already satisfied: sniffio in c:\\users\\valen\\anaconda3\\lib\\site-packages (from httpx) (1.2.0)\n",
      "Collecting h11<0.15,>=0.13 (from httpcore==1.*->httpx)\n",
      "  Obtaining dependency information for h11<0.15,>=0.13 from https://files.pythonhosted.org/packages/95/04/ff642e65ad6b90db43e668d70ffb6736436c7ce41fcc549f4e9472234127/h11-0.14.0-py3-none-any.whl.metadata\n",
      "  Downloading h11-0.14.0-py3-none-any.whl.metadata (8.2 kB)\n",
      "Downloading httpx-0.27.0-py3-none-any.whl (75 kB)\n",
      "   ---------------------------------------- 0.0/75.6 kB ? eta -:--:--\n",
      "   ------------------------------------- -- 71.7/75.6 kB 1.3 MB/s eta 0:00:01\n",
      "   ---------------------------------------- 75.6/75.6 kB 1.4 MB/s eta 0:00:00\n",
      "Downloading httpcore-1.0.4-py3-none-any.whl (77 kB)\n",
      "   ---------------------------------------- 0.0/77.8 kB ? eta -:--:--\n",
      "   ---------------------------------------- 77.8/77.8 kB ? eta 0:00:00\n",
      "Downloading h11-0.14.0-py3-none-any.whl (58 kB)\n",
      "   ---------------------------------------- 0.0/58.3 kB ? eta -:--:--\n",
      "   ---------------------------------------- 58.3/58.3 kB 3.2 MB/s eta 0:00:00\n",
      "Installing collected packages: h11, httpcore, httpx\n",
      "Successfully installed h11-0.14.0 httpcore-1.0.4 httpx-0.27.0\n",
      "Note: you may need to restart the kernel to use updated packages.\n"
     ]
    }
   ],
   "source": [
    "pip install httpx"
   ]
  },
  {
   "cell_type": "markdown",
   "id": "c8ba05e7",
   "metadata": {},
   "source": [
    "Différente tentative:"
   ]
  },
  {
   "cell_type": "code",
   "execution_count": 8,
   "id": "1df5a168",
   "metadata": {},
   "outputs": [],
   "source": [
    "import requests \n",
    "import random \n",
    "import pprint\n",
    "import re\n",
    "import time\n",
    "from collections import defaultdict\n",
    "from bs4 import BeautifulSoup\n",
    "import numpy as np\n",
    "import tqdm\n",
    "import pandas as pd"
   ]
  },
  {
   "cell_type": "code",
   "execution_count": 4,
   "id": "b15d638b",
   "metadata": {},
   "outputs": [],
   "source": [
    "url = \"https://music.feedspot.com/jazz_blogs/\""
   ]
  },
  {
   "cell_type": "code",
   "execution_count": 3,
   "id": "d53908f8",
   "metadata": {},
   "outputs": [],
   "source": [
    "def get_url(url):\n",
    "    '''\n",
    "    Function to retrieve the HTML content of a given URL by using a fake user agent.\n",
    "    \n",
    "    Args:\n",
    "        url (str): The URL to retrieve the content from.\n",
    "        \n",
    "    Returns:\n",
    "        str: The HTML content of the URL.\n",
    "    '''\n",
    "    user_agents_list = [\n",
    "        'Mozilla/5.0 (iPad; CPU OS 12_2 like Mac OS X) AppleWebKit/605.1.15 (KHTML, like Gecko) Mobile/15E148',\n",
    "        'Mozilla/5.0 (Macintosh; Intel Mac OS X 10_15_7) AppleWebKit/537.36 (KHTML, like Gecko) Chrome/99.0.4844.83 Safari/537.36',\n",
    "        'Mozilla/5.0 (Windows NT 10.0; Win64; x64) AppleWebKit/537.36 (KHTML, like Gecko) Chrome/99.0.4844.51 Safari/537.36'\n",
    "        ]\n",
    "    r = requests.get(url, headers={'User-Agent': random.choice(user_agents_list)})\n",
    "    return BeautifulSoup(r.text)"
   ]
  },
  {
   "cell_type": "code",
   "execution_count": 12,
   "id": "6d7c7699",
   "metadata": {
    "collapsed": true
   },
   "outputs": [
    {
     "name": "stdout",
     "output_type": "stream",
     "text": [
      "75\n",
      "['Free Jazz', 'Jazz&Blues', 'A Jazz Noise', 'Yoko Miwa ', 'LondonJazz', 'New York Jazz Workshop Blog', 'JazzWax', 'Pitchfork » Jazz', 'All About Jazz', 'Library of Congress » Jazz ', 'WartaJazz.com', 'The Jazz Mann', 'Jazzwise', 'Ottawa Citizen » Jazz Blog ', 'Jazz Journal', 'Wynton Marsalis ', 'TD Ottawa Jazz Festival', 'Jazz In Europe', 'Jazz Chill Music', 'Jazz You Too', 'SFJAZZ ', 'Jazz Lives Blog ', 'New York Amsterdam » Jazz Notes', 'bebop spoken here', 'CapitalBop', 'Jazz Blues Florida', 'Jazz Profiles', 'JazzRochester Blog', 'Marlbank Jazz Blog', 'UK Vibe', 'TheJazzWorld', 'Coastal Jazz & Blues Society Blog', 'Polish-Jazz', 'Jazzfuel', 'Open Sky Jazz', 'Vortex Jazz Club', 'The Blue Moment » Jazz ', 'Learn Jazz Standards ', 'Debbie Burke ', 'Jazz Aspen Snowmass', 'Jazz Journalists Association ', 'WZUM Jazz Pittsburgh', 'Four on the Floor', 'Jazz24', 'Jazz guitar Licks Blog', 'SimplyJazzTalk Blog', 'Stringspace Blog', 'Free Jazz Lessons Blog ', 'All That Philly Jazz', 'Tracce di Jazz', 'JazzTrail Blog ', 'SomehowJazz', 'Canberra Jazz blog', 'PDX Jazz Blog PDX Jazz', 'Ausjazz Blog', 'Tokyo Jazz Site Blog', 'Lancaster Jazz Blog ', 'JazzArts Charlotte Blog ', 'Gapplegate Music Review', 'Clean Feed Records', 'Caravan Jazz', 'Ellington Reflections', 'Decidedly Jazz Danceworks', 'Brilliant Corners', 'Jazz Workshop Australia', 'Sun Prairie Band Boosters » Jazz ', \"Uncle Paul's Jazz Closet\", 'Neon Jazz', 'Best of Jazz', 'Jazz Promotion Network Blog ', 'Jazz | The Music of Unemployment', 'The Jazz Clarinet', 'JazzLocal32.com', 'Jazz from Geoff', 'Kansas City Jazz Ambassadors Blog']\n"
     ]
    }
   ],
   "source": [
    "def get_names(url):\n",
    "    soup = get_url(url)\n",
    "    h3s = soup.find_all('h3', attrs={'class':'feed_heading'})\n",
    "    \n",
    "    noms = []\n",
    "    \n",
    "    for h3 in h3s:\n",
    "        nns = h3.find_all('a', class_='tlink fd_lk')\n",
    "        \n",
    "        if len(nns) > 0:\n",
    "            # Accès direct au texte de chaque élément span trouvé\n",
    "            for nn in nns:\n",
    "                noms.append(nn.get_text())\n",
    "        else:\n",
    "            noms.append('none')\n",
    "    return noms\n",
    "\n",
    "nom_blog = get_names(\"https://music.feedspot.com/jazz_blogs/\")\n",
    "print(len(nom_blog))\n",
    "print(nom_blog)"
   ]
  },
  {
   "cell_type": "code",
   "execution_count": 5,
   "id": "44e1dee8",
   "metadata": {},
   "outputs": [
    {
     "data": {
      "text/plain": [
       "list"
      ]
     },
     "execution_count": 5,
     "metadata": {},
     "output_type": "execute_result"
    }
   ],
   "source": [
    "type(nom_blog)"
   ]
  },
  {
   "cell_type": "code",
   "execution_count": 13,
   "id": "8451f3ee",
   "metadata": {
    "collapsed": true
   },
   "outputs": [
    {
     "name": "stdout",
     "output_type": "stream",
     "text": [
      "free_jazz@exemple.com\n",
      "jazzandblues@exemple.com\n",
      "a_jazz_noise@exemple.com\n",
      "yoko_miwa@exemple.com\n",
      "londonjazz@exemple.com\n",
      "new_york_jazz_workshop_blog@exemple.com\n",
      "jazzwax@exemple.com\n",
      "pitchfork__jazz@exemple.com\n",
      "all_about_jazz@exemple.com\n",
      "library_of_congress__jazz@exemple.com\n",
      "wartajazzcom@exemple.com\n",
      "the_jazz_mann@exemple.com\n",
      "jazzwise@exemple.com\n",
      "ottawa_citizen__jazz_blog@exemple.com\n",
      "jazz_journal@exemple.com\n",
      "wynton_marsalis@exemple.com\n",
      "td_ottawa_jazz_festival@exemple.com\n",
      "jazz_in_europe@exemple.com\n",
      "jazz_chill_music@exemple.com\n",
      "jazz_you_too@exemple.com\n",
      "sfjazz@exemple.com\n",
      "jazz_lives_blog@exemple.com\n",
      "new_york_amsterdam__jazz_notes@exemple.com\n",
      "bebop_spoken_here@exemple.com\n",
      "capitalbop@exemple.com\n",
      "jazz_blues_florida@exemple.com\n",
      "jazz_profiles@exemple.com\n",
      "jazzrochester_blog@exemple.com\n",
      "marlbank_jazz_blog@exemple.com\n",
      "uk_vibe@exemple.com\n",
      "thejazzworld@exemple.com\n",
      "coastal_jazz_and_blues_society_blog@exemple.com\n",
      "polish-jazz@exemple.com\n",
      "jazzfuel@exemple.com\n",
      "open_sky_jazz@exemple.com\n",
      "vortex_jazz_club@exemple.com\n",
      "the_blue_moment__jazz@exemple.com\n",
      "learn_jazz_standards@exemple.com\n",
      "debbie_burke@exemple.com\n",
      "jazz_aspen_snowmass@exemple.com\n",
      "jazz_journalists_association@exemple.com\n",
      "wzum_jazz_pittsburgh@exemple.com\n",
      "four_on_the_floor@exemple.com\n",
      "jazz24@exemple.com\n",
      "jazz_guitar_licks_blog@exemple.com\n",
      "simplyjazztalk_blog@exemple.com\n",
      "stringspace_blog@exemple.com\n",
      "free_jazz_lessons_blog@exemple.com\n",
      "all_that_philly_jazz@exemple.com\n",
      "tracce_di_jazz@exemple.com\n",
      "jazztrail_blog@exemple.com\n",
      "somehowjazz@exemple.com\n",
      "canberra_jazz_blog@exemple.com\n",
      "pdx_jazz_blog_pdx_jazz@exemple.com\n",
      "ausjazz_blog@exemple.com\n",
      "tokyo_jazz_site_blog@exemple.com\n",
      "lancaster_jazz_blog@exemple.com\n",
      "jazzarts_charlotte_blog@exemple.com\n",
      "gapplegate_music_review@exemple.com\n",
      "clean_feed_records@exemple.com\n",
      "caravan_jazz@exemple.com\n",
      "ellington_reflections@exemple.com\n",
      "decidedly_jazz_danceworks@exemple.com\n",
      "brilliant_corners@exemple.com\n",
      "jazz_workshop_australia@exemple.com\n",
      "sun_prairie_band_boosters__jazz@exemple.com\n",
      "uncle_paul's_jazz_closet@exemple.com\n",
      "neon_jazz@exemple.com\n",
      "best_of_jazz@exemple.com\n",
      "jazz_promotion_network_blog@exemple.com\n",
      "jazz__the_music_of_unemployment@exemple.com\n",
      "the_jazz_clarinet@exemple.com\n",
      "jazzlocal32com@exemple.com\n",
      "jazz_from_geoff@exemple.com\n",
      "kansas_city_jazz_ambassadors_blog@exemple.com\n"
     ]
    }
   ],
   "source": [
    "#Création d'une liste contenant les adresses email fictives:\n",
    "adresses_email = []\n",
    "for blog in nom_blog:\n",
    "    # Nettoyer et remplacer les espaces et caractères spéciaux\n",
    "    nom_simplifie = blog.strip().replace(' ', '_').replace('&', 'and').replace('»', '').replace('|', '').replace('.', '').lower()\n",
    "    # Ajouter un domaine fictif\n",
    "    adresse_email = nom_simplifie + \"@exemple.com\"\n",
    "    adresses_email.append(adresse_email)\n",
    "\n",
    "# Afficher les adresses e-mail créées\n",
    "for adresse in adresses_email:\n",
    "    print(adresse)"
   ]
  },
  {
   "cell_type": "code",
   "execution_count": null,
   "id": "687d495b",
   "metadata": {},
   "outputs": [],
   "source": [
    "#{nom_blog}@exemple.com"
   ]
  },
  {
   "cell_type": "code",
   "execution_count": 14,
   "id": "f39d66d3",
   "metadata": {
    "collapsed": true
   },
   "outputs": [
    {
     "name": "stdout",
     "output_type": "stream",
     "text": [
      "75\n",
      "['US', 'Paris, Ile-de-France, France', 'Barcelona, Catalunya, Spain', 'Boston, Massachusetts, US', 'London, England, UK', 'New York, US', 'US', 'US', 'Philadelphia, Pennsylvania, US', 'Washington, District of Columbia, US', 'Yogyakarta, Indonesia', 'UK ', 'London, England, UK', 'none', 'London, England, UK', 'New York, US', 'Ottawa, Ontario, Canada', 'Hengelo, Overijssel, Netherlands', 'Florida, US', 'none', 'San Francisco, California, US', 'New York, US', 'Harlem, New York, US', 'US', 'Washington, District of Columbia, US', 'Florida, US', 'none', 'Rochester, New York, US', 'none', 'UK', 'Las Vegas, Nevada, US', 'Vancouver, British Columbia, Canada', 'Poland ', 'none', 'Rockville, Maryland, US', 'England, UK', 'London, England, UK', 'New York, US', 'New York City, New York, US', 'Aspen, Colorado, US', 'New York City, New York, US', 'Pittsburgh, Pennsylvania, US', 'Calgary, Alberta, Canada', 'Seattle, Washington, US', 'France', 'England, UK', 'Australia', 'Chicago, Illinois, US', 'Philadelphia, Pennsylvania, US', 'Italy', 'New York City, New York, US', 'California, US', 'none', 'Portland, Oregon, US', 'Melbourne, Victoria, Australia', 'Yokohama, Kanagawa, Japan', 'Lancaster, England, UK', 'Charlotte, North Carolina, US', 'Ridgefield Park, New Jersey, US', 'Portugal', 'none', 'Pasadena, California, US', 'Calgary, Alberta, Canada', 'Boston, Massachusetts, US', 'Sydney, New South Wales, Australia', 'none', 'none', 'Kansas City, Missouri, US', 'none', 'none', 'Portland, Oregon, US', 'Cleveland, Ohio, US', 'Auckland, New Zealand', 'UK', 'Kansas City, Missouri, US']\n"
     ]
    }
   ],
   "source": [
    "def get_locals(url):\n",
    "    soup = get_url(url)\n",
    "    h3s = soup.find_all('p', attrs={'class':'trow trow-wrap'})\n",
    "    \n",
    "    locals_ = []\n",
    "    \n",
    "    for h3 in h3s:\n",
    "        nns = h3.find_all('span', class_='location_new')\n",
    "        \n",
    "        if len(nns) > 0:\n",
    "            # Accès direct au texte de chaque élément span trouvé\n",
    "            for nn in nns:\n",
    "                locals_.append(nn.get_text())\n",
    "        else:\n",
    "            locals_.append('none')\n",
    "    return locals_\n",
    "\n",
    "localisation = get_locals(\"https://music.feedspot.com/jazz_blogs/\")\n",
    "print(len(localisation))\n",
    "print(localisation)"
   ]
  },
  {
   "cell_type": "code",
   "execution_count": 27,
   "id": "c0aa180d",
   "metadata": {
    "collapsed": true
   },
   "outputs": [
    {
     "name": "stdout",
     "output_type": "stream",
     "text": [
      "Villes: ['none', 'Paris', 'Barcelona', 'Boston', 'London', 'New York', 'none', 'none', 'Philadelphia', 'Washington', 'Yogyakarta', 'none', 'London', 'none', 'London', 'New York', 'Ottawa', 'Hengelo', 'Florida', 'none', 'San Francisco', 'New York', 'Harlem', 'none', 'Washington', 'Florida', 'none', 'Rochester', 'none', 'none', 'Las Vegas', 'Vancouver', 'none', 'none', 'Rockville', 'England', 'London', 'New York', 'New York City', 'Aspen', 'New York City', 'Pittsburgh', 'Calgary', 'Seattle', 'none', 'England', 'none', 'Chicago', 'Philadelphia', 'none', 'New York City', 'California', 'none', 'Portland', 'Melbourne', 'Yokohama', 'Lancaster', 'Charlotte', 'Ridgefield Park', 'none', 'none', 'Pasadena', 'Calgary', 'Boston', 'Sydney', 'none', 'none', 'Kansas City', 'none', 'none', 'Portland', 'Cleveland', 'Auckland', 'none', 'Kansas City']\n",
      "Regions: ['none', 'Ile-de-France', 'Catalunya', 'Massachusetts', 'England', 'none', 'none', 'none', 'Pennsylvania', 'District of Columbia', 'none', 'none', 'England', 'none', 'England', 'none', 'Ontario', 'Overijssel', 'none', 'none', 'California', 'none', 'New York', 'none', 'District of Columbia', 'none', 'none', 'New York', 'none', 'none', 'Nevada', 'British Columbia', 'none', 'none', 'Maryland', 'none', 'England', 'none', 'New York', 'Colorado', 'New York', 'Pennsylvania', 'Alberta', 'Washington', 'none', 'none', 'none', 'Illinois', 'Pennsylvania', 'none', 'New York', 'none', 'none', 'Oregon', 'Victoria', 'Kanagawa', 'England', 'North Carolina', 'New Jersey', 'none', 'none', 'California', 'Alberta', 'Massachusetts', 'New South Wales', 'none', 'none', 'Missouri', 'none', 'none', 'Oregon', 'Ohio', 'none', 'none', 'Missouri']\n",
      "Pays: ['US', 'France', 'Spain', 'US', 'UK', 'US', 'US', 'US', 'US', 'US', 'Indonesia', 'UK ', 'UK', 'none', 'UK', 'US', 'Canada', 'Netherlands', 'US', 'none', 'US', 'US', 'US', 'US', 'US', 'US', 'none', 'US', 'none', 'UK', 'US', 'Canada', 'Poland ', 'none', 'US', 'UK', 'UK', 'US', 'US', 'US', 'US', 'US', 'Canada', 'US', 'France', 'UK', 'Australia', 'US', 'US', 'Italy', 'US', 'US', 'none', 'US', 'Australia', 'Japan', 'UK', 'US', 'US', 'Portugal', 'none', 'US', 'Canada', 'US', 'Australia', 'none', 'none', 'US', 'none', 'none', 'US', 'US', 'New Zealand', 'UK', 'US']\n"
     ]
    }
   ],
   "source": [
    "Ville = []\n",
    "Region = []\n",
    "Pays = []\n",
    "\n",
    "for loc in localisation:\n",
    "    parts = loc.split(', ')\n",
    "    \n",
    "    # Gestion des cas spéciaux\n",
    "    if loc == 'none' or len(parts) == 1:\n",
    "        Ville.append('none')\n",
    "        Region.append('none')\n",
    "        Pays.append(parts[0] if loc != 'none' else 'none')\n",
    "    elif len(parts) == 2:\n",
    "        # Supposition: format \"Ville, Pays\"\n",
    "        Ville.append(parts[0])\n",
    "        Region.append('none')\n",
    "        Pays.append(parts[1])\n",
    "    elif len(parts) >= 3:\n",
    "        # Format complet \"Ville, Région, Pays\"\n",
    "        Ville.append(parts[0])\n",
    "        Region.append(parts[1])\n",
    "        Pays.append(parts[2])\n",
    "\n",
    "# Affichage pour vérification\n",
    "print(\"Villes:\", Ville)\n",
    "print(\"Regions:\", Region)\n",
    "print(\"Pays:\", Pays)"
   ]
  },
  {
   "cell_type": "code",
   "execution_count": 15,
   "id": "5fabe548",
   "metadata": {
    "collapsed": true
   },
   "outputs": [
    {
     "name": "stdout",
     "output_type": "stream",
     "text": [
      "75\n",
      "['freejazzblog.org', 'youtube.com/cha..', 'ajazznoise.com', 'yokomiwa.com/blog', 'londonjazznews.com', 'newyorkjazzworksho..', 'jazzwax.com', 'pitchfork.com/news..', 'allaboutjazz.com/p..', 'blogs.loc.gov/musi..', 'wartajazz.com', 'thejazzmann.com', 'jazzwise.com/news', 'ottawacitizen.com/..', 'jazzjournal.co.uk', 'wyntonmarsalis.org..', 'ottawajazzfestival..', 'jazzineurope.mfmme..', 'jazzchill.blogspot..', 'jazzyoutoo.wordpre..', 'sfjazz.org/ontheco..', 'jazzlives.wordpres..', 'amsterdamnews.com/..', 'lance-bebopspokenh..', 'capitalbop.com', 'jazz-bluesflorida...', 'jazzprofiles.blogs..', 'jazzrochester.com', 'marlbank.net', 'ukvibe.org', 'thejazzworld.com/blog', 'coastaljazz.ca/blog', 'polish-jazz.blogsp..', 'jazzfuel.com/jazz-..', 'openskyjazz.com', 'vortexjazz.co.uk/news', 'thebluemoment.com/..', 'learnjazzstandards..', 'debbieburkeauthor.com', 'jazzaspensnowmass...', 'news.jazzjournalis..', 'wzum.org/jazz-blog', 'jonmccaslinjazzdru..', 'jazz24.org/categor..', 'jazz-guitar-licks...', 'simplyjazztalk.blog', 'stringspace.com.au..', 'freejazzlessons.co..', 'phillyjazz.us', 'traccedijazz.com', 'jazztrail.net/blog', 'somehowjazz.com/blog', 'canberrajazz.blogs..', 'pdxjazz.com/news', 'ausjazz.net', 'tokyojazzsite.com/..', 'lancasterjazz.com/..', 'thejazzarts.org/ne..', 'gapplegatemusicrev..', 'cleanfeed-records...', 'caravanjazz.es', 'ellingtonreflectio..', 'decidedlyjazz.com/..', 'brilliantcornersab..', 'jazzworkshopaustra..', 'spbb.org/jazz-news', 'jazzcloset.blogspo..', 'theneonjazz.blogsp..', 'bestofjazz.org', 'jazzpromotionnetwo..', 'uglyrug.blogspot.com', 'thejazzclarinet.bl..', 'jazzlocal32.com/au..', 'jazzfromgeoff.blog..', 'kcjazzambassadors...']\n"
     ]
    }
   ],
   "source": [
    "def get_webs(url):\n",
    "    soup = get_url(url)\n",
    "    h3s = soup.find_all('p', attrs={'class':'trow trow-wrap'})\n",
    "    \n",
    "    webs = []\n",
    "    \n",
    "    for h3 in h3s:\n",
    "        nns = h3.find_all('a', class_='ext')\n",
    "        \n",
    "        if len(nns) > 0:\n",
    "            # Accès direct au texte de chaque élément span trouvé\n",
    "            for nn in nns:\n",
    "                webs.append(nn.get_text())\n",
    "        else:\n",
    "            webs.append('none')\n",
    "    return webs\n",
    "site_web = get_webs(\"https://music.feedspot.com/jazz_blogs/\")\n",
    "print(len(site_web))\n",
    "print(site_web)"
   ]
  },
  {
   "cell_type": "code",
   "execution_count": 16,
   "id": "c6397bba",
   "metadata": {
    "collapsed": true
   },
   "outputs": [
    {
     "name": "stdout",
     "output_type": "stream",
     "text": [
      "75\n",
      "['3.9K', '765', '1.5K', '1.3K', '51.5K', '1.6K', '11.7K', '3.2M', '92.6K', '1.2M', '19.5K', '4.9K', '56.3K', '249.6K', '11.3K', '135.8K', '18.1K', '31.8K', '11.9K', '1.3K', '28.1K', '434', '14.9K', '624', '3.5K', '34', 'none', '11.3K', 'none', 'none', 'none', '12.2K', 'none', '5.9K', '1.6K', '25.4K', '25.8K', '1.3K', '2.1K', '4.1K', '7K', '373', '939', '2.1K', '914', '2.3K', '164', '375', '1.4K', '229', 'none', '749', 'none', '2.3K', '367', '2.7K', '2.4K', '1.4K', 'none', 'none', '3K', '647', 'none', '1.3K', '17', 'none', 'none', 'none', '528', '1.8K', '1.1K', '1K', '53', 'none', 'none']\n",
      "75\n",
      "['1.6K', '123.7K', '2K', '3.5K', '7.8K', '16K', 'none', '1.4M', '129.1K', '497.4K', '4.8K', 'none', '21.6K', '194.7K', '1.9K', '785.3K', '12.8K', '11.4K', 'none', 'none', '85.5K', 'none', '54.6K', 'none', '3.3K', '7.4K', 'none', '1.3K', 'none', 'none', '115', '10.7K', 'none', '5.2K', 'none', '7.9K', 'none', '28.6K', '578', '20K', 'none', 'none', '997', '6.6K', '43K', '15', '5.3K', '3.6K', 'none', '6.4K', '1.4K', '58.1K', 'none', '9.6K', '772', 'none', '2.1K', '6.6K', '307', '5.5K', 'none', '45', '4.8K', 'none', '2.6K', 'none', '677', '235', 'none', '583', 'none', 'none', 'none', 'none', '3.2K']\n",
      "75\n",
      "['none', 'none', 'none', '2.4K', 'none', 'none', 'none', '1.5M', '4.1K', 'none', '10.4K', 'none', '11K', '51.2K', 'none', '324.5K', '6.8K', '4.9K', 'none', 'none', '108.8K', 'none', '17.3K', 'none', '3.1K', '3.7K', 'none', '889', 'none', 'none', '262', '5.8K', 'none', '1.5K', 'none', 'none', 'none', '16.4K', 'none', '8K', 'none', '685', '921', '3.9K', '111.6K', 'none', '2.4K', 'none', 'none', 'none', 'none', '312', 'none', '6.4K', 'none', 'none', '2.1K', '3.4K', 'none', 'none', '1.2K', 'none', '7K', 'none', 'none', 'none', 'none', 'none', 'none', 'none', 'none', 'none', 'none', 'none', 'none']\n"
     ]
    }
   ],
   "source": [
    "def get_followers(url, name_class):\n",
    "    \n",
    "    soup = get_url(url)\n",
    "    spans = soup.find_all('span', attrs={'class':'eng-outer-wrapper eng-outer-wrapper eng-outer-nodot eng-outer-wrapper--free'})\n",
    "\n",
    "    abo = []\n",
    "   \n",
    "    for span in spans:\n",
    "\n",
    "        imgs = span.find_all('span', class_=f'{name_class}')\n",
    "        \n",
    "        if len(imgs) > 0:\n",
    "            lst = [img.find_all(\"span\", class_='eng_v') for img in imgs] \n",
    "            abo.append(lst[0][0].get_text())   \n",
    "        else : abo.append('none')\n",
    "\n",
    "    return abo\n",
    "\n",
    "twitsub = get_followers(\"https://music.feedspot.com/jazz_blogs/\", \"fs-twitter\")\n",
    "fbsub = get_followers(\"https://music.feedspot.com/jazz_blogs/\", \"fs-facebook\")\n",
    "instasub = get_followers(\"https://music.feedspot.com/jazz_blogs/\", \"fs-instagram\")\n",
    "                      \n",
    "print(len(twitsub))\n",
    "print(twitsub)\n",
    "\n",
    "print(len(fbsub))\n",
    "print(fbsub)\n",
    "\n",
    "print(len(instasub))\n",
    "print(instasub)"
   ]
  },
  {
   "cell_type": "code",
   "execution_count": 17,
   "id": "484a4585",
   "metadata": {
    "scrolled": false
   },
   "outputs": [
    {
     "data": {
      "text/plain": [
       "75"
      ]
     },
     "execution_count": 17,
     "metadata": {},
     "output_type": "execute_result"
    }
   ],
   "source": [
    "def convertir_en_nombre(abonnes_str):\n",
    "    # Gère le cas spécial où la chaîne est 'none'\n",
    "    if abonnes_str == 'none':\n",
    "        return 0  # Retourne 0 ou une autre valeur par défaut appropriée\n",
    "    # Supprime 'K', multiplie par 1000 si 'K' était présent\n",
    "    if 'K' in abonnes_str:\n",
    "        return int(float(abonnes_str.replace('K', '')) * 1000)\n",
    "    # Ajoute une condition pour gérer les cas où 'M' est présent\n",
    "    elif 'M' in abonnes_str:\n",
    "        return int(float(abonnes_str.replace('M', '')) * 1000000)\n",
    "    # Supprime les points et les virgules avant de convertir en int\n",
    "    return int(abonnes_str.replace('.', '').replace(',', ''))\n",
    "\n",
    "# Application de la fonction à tous les éléments des listes\n",
    "fbsub_num = [convertir_en_nombre(abonne) for abonne in fbsub]\n",
    "twitsub_num = [convertir_en_nombre(abonne) for abonne in twitsub]\n",
    "instasub_num = [convertir_en_nombre(abonne) for abonne in instasub]\n",
    "len(instasub_num)"
   ]
  },
  {
   "cell_type": "code",
   "execution_count": 29,
   "id": "0a6434b2",
   "metadata": {},
   "outputs": [
    {
     "data": {
      "text/html": [
       "<div>\n",
       "<style scoped>\n",
       "    .dataframe tbody tr th:only-of-type {\n",
       "        vertical-align: middle;\n",
       "    }\n",
       "\n",
       "    .dataframe tbody tr th {\n",
       "        vertical-align: top;\n",
       "    }\n",
       "\n",
       "    .dataframe thead th {\n",
       "        text-align: right;\n",
       "    }\n",
       "</style>\n",
       "<table border=\"1\" class=\"dataframe\">\n",
       "  <thead>\n",
       "    <tr style=\"text-align: right;\">\n",
       "      <th></th>\n",
       "      <th>Nom Blog</th>\n",
       "      <th>Pays</th>\n",
       "      <th>Région</th>\n",
       "      <th>Ville</th>\n",
       "      <th>Adresse Email</th>\n",
       "      <th>Site web</th>\n",
       "      <th>Abonnées Facebook</th>\n",
       "      <th>Abonnées Twitter</th>\n",
       "      <th>Abonnées Instagram</th>\n",
       "    </tr>\n",
       "  </thead>\n",
       "  <tbody>\n",
       "    <tr>\n",
       "      <th>0</th>\n",
       "      <td>Free Jazz</td>\n",
       "      <td>US</td>\n",
       "      <td>none</td>\n",
       "      <td>none</td>\n",
       "      <td>free_jazz@exemple.com</td>\n",
       "      <td>freejazzblog.org</td>\n",
       "      <td>1600</td>\n",
       "      <td>3900</td>\n",
       "      <td>0</td>\n",
       "    </tr>\n",
       "    <tr>\n",
       "      <th>1</th>\n",
       "      <td>Jazz&amp;Blues</td>\n",
       "      <td>France</td>\n",
       "      <td>Ile-de-France</td>\n",
       "      <td>Paris</td>\n",
       "      <td>jazzandblues@exemple.com</td>\n",
       "      <td>youtube.com/cha..</td>\n",
       "      <td>123700</td>\n",
       "      <td>765</td>\n",
       "      <td>0</td>\n",
       "    </tr>\n",
       "    <tr>\n",
       "      <th>2</th>\n",
       "      <td>A Jazz Noise</td>\n",
       "      <td>Spain</td>\n",
       "      <td>Catalunya</td>\n",
       "      <td>Barcelona</td>\n",
       "      <td>a_jazz_noise@exemple.com</td>\n",
       "      <td>ajazznoise.com</td>\n",
       "      <td>2000</td>\n",
       "      <td>1500</td>\n",
       "      <td>0</td>\n",
       "    </tr>\n",
       "    <tr>\n",
       "      <th>3</th>\n",
       "      <td>Yoko Miwa</td>\n",
       "      <td>US</td>\n",
       "      <td>Massachusetts</td>\n",
       "      <td>Boston</td>\n",
       "      <td>yoko_miwa@exemple.com</td>\n",
       "      <td>yokomiwa.com/blog</td>\n",
       "      <td>3500</td>\n",
       "      <td>1300</td>\n",
       "      <td>2400</td>\n",
       "    </tr>\n",
       "    <tr>\n",
       "      <th>4</th>\n",
       "      <td>LondonJazz</td>\n",
       "      <td>UK</td>\n",
       "      <td>England</td>\n",
       "      <td>London</td>\n",
       "      <td>londonjazz@exemple.com</td>\n",
       "      <td>londonjazznews.com</td>\n",
       "      <td>7800</td>\n",
       "      <td>51500</td>\n",
       "      <td>0</td>\n",
       "    </tr>\n",
       "    <tr>\n",
       "      <th>...</th>\n",
       "      <td>...</td>\n",
       "      <td>...</td>\n",
       "      <td>...</td>\n",
       "      <td>...</td>\n",
       "      <td>...</td>\n",
       "      <td>...</td>\n",
       "      <td>...</td>\n",
       "      <td>...</td>\n",
       "      <td>...</td>\n",
       "    </tr>\n",
       "    <tr>\n",
       "      <th>70</th>\n",
       "      <td>Jazz | The Music of Unemployment</td>\n",
       "      <td>US</td>\n",
       "      <td>Oregon</td>\n",
       "      <td>Portland</td>\n",
       "      <td>jazz__the_music_of_unemployment@exemple.com</td>\n",
       "      <td>uglyrug.blogspot.com</td>\n",
       "      <td>0</td>\n",
       "      <td>1100</td>\n",
       "      <td>0</td>\n",
       "    </tr>\n",
       "    <tr>\n",
       "      <th>71</th>\n",
       "      <td>The Jazz Clarinet</td>\n",
       "      <td>US</td>\n",
       "      <td>Ohio</td>\n",
       "      <td>Cleveland</td>\n",
       "      <td>the_jazz_clarinet@exemple.com</td>\n",
       "      <td>thejazzclarinet.bl..</td>\n",
       "      <td>0</td>\n",
       "      <td>1000</td>\n",
       "      <td>0</td>\n",
       "    </tr>\n",
       "    <tr>\n",
       "      <th>72</th>\n",
       "      <td>JazzLocal32.com</td>\n",
       "      <td>New Zealand</td>\n",
       "      <td>none</td>\n",
       "      <td>Auckland</td>\n",
       "      <td>jazzlocal32com@exemple.com</td>\n",
       "      <td>jazzlocal32.com/au..</td>\n",
       "      <td>0</td>\n",
       "      <td>53</td>\n",
       "      <td>0</td>\n",
       "    </tr>\n",
       "    <tr>\n",
       "      <th>73</th>\n",
       "      <td>Jazz from Geoff</td>\n",
       "      <td>UK</td>\n",
       "      <td>none</td>\n",
       "      <td>none</td>\n",
       "      <td>jazz_from_geoff@exemple.com</td>\n",
       "      <td>jazzfromgeoff.blog..</td>\n",
       "      <td>0</td>\n",
       "      <td>0</td>\n",
       "      <td>0</td>\n",
       "    </tr>\n",
       "    <tr>\n",
       "      <th>74</th>\n",
       "      <td>Kansas City Jazz Ambassadors Blog</td>\n",
       "      <td>US</td>\n",
       "      <td>Missouri</td>\n",
       "      <td>Kansas City</td>\n",
       "      <td>kansas_city_jazz_ambassadors_blog@exemple.com</td>\n",
       "      <td>kcjazzambassadors...</td>\n",
       "      <td>3200</td>\n",
       "      <td>0</td>\n",
       "      <td>0</td>\n",
       "    </tr>\n",
       "  </tbody>\n",
       "</table>\n",
       "<p>75 rows × 9 columns</p>\n",
       "</div>"
      ],
      "text/plain": [
       "                             Nom Blog         Pays         Région  \\\n",
       "0                           Free Jazz           US           none   \n",
       "1                          Jazz&Blues       France  Ile-de-France   \n",
       "2                        A Jazz Noise        Spain      Catalunya   \n",
       "3                          Yoko Miwa            US  Massachusetts   \n",
       "4                          LondonJazz           UK        England   \n",
       "..                                ...          ...            ...   \n",
       "70   Jazz | The Music of Unemployment           US         Oregon   \n",
       "71                  The Jazz Clarinet           US           Ohio   \n",
       "72                    JazzLocal32.com  New Zealand           none   \n",
       "73                    Jazz from Geoff           UK           none   \n",
       "74  Kansas City Jazz Ambassadors Blog           US       Missouri   \n",
       "\n",
       "          Ville                                  Adresse Email  \\\n",
       "0          none                          free_jazz@exemple.com   \n",
       "1         Paris                       jazzandblues@exemple.com   \n",
       "2     Barcelona                       a_jazz_noise@exemple.com   \n",
       "3        Boston                          yoko_miwa@exemple.com   \n",
       "4        London                         londonjazz@exemple.com   \n",
       "..          ...                                            ...   \n",
       "70     Portland    jazz__the_music_of_unemployment@exemple.com   \n",
       "71    Cleveland                  the_jazz_clarinet@exemple.com   \n",
       "72     Auckland                     jazzlocal32com@exemple.com   \n",
       "73         none                    jazz_from_geoff@exemple.com   \n",
       "74  Kansas City  kansas_city_jazz_ambassadors_blog@exemple.com   \n",
       "\n",
       "                Site web  Abonnées Facebook  Abonnées Twitter  \\\n",
       "0       freejazzblog.org               1600              3900   \n",
       "1      youtube.com/cha..             123700               765   \n",
       "2         ajazznoise.com               2000              1500   \n",
       "3      yokomiwa.com/blog               3500              1300   \n",
       "4     londonjazznews.com               7800             51500   \n",
       "..                   ...                ...               ...   \n",
       "70  uglyrug.blogspot.com                  0              1100   \n",
       "71  thejazzclarinet.bl..                  0              1000   \n",
       "72  jazzlocal32.com/au..                  0                53   \n",
       "73  jazzfromgeoff.blog..                  0                 0   \n",
       "74  kcjazzambassadors...               3200                 0   \n",
       "\n",
       "    Abonnées Instagram  \n",
       "0                    0  \n",
       "1                    0  \n",
       "2                    0  \n",
       "3                 2400  \n",
       "4                    0  \n",
       "..                 ...  \n",
       "70                   0  \n",
       "71                   0  \n",
       "72                   0  \n",
       "73                   0  \n",
       "74                   0  \n",
       "\n",
       "[75 rows x 9 columns]"
      ]
     },
     "execution_count": 29,
     "metadata": {},
     "output_type": "execute_result"
    }
   ],
   "source": [
    "DataBlog = {\"Nom Blog\": nom_blog,\n",
    "            \"Pays\": Pays,\n",
    "            \"Région\": Region,\n",
    "            \"Ville\": Ville,\n",
    "            \"Adresse Email\": adresses_email,\n",
    "            \"Site web\": site_web,\n",
    "            \"Abonnées Facebook\": fbsub_num,\n",
    "            \"Abonnées Twitter\": twitsub_num,\n",
    "            \"Abonnées Instagram\": instasub_num\n",
    "            }\n",
    "\n",
    "TableBlog = pd.DataFrame(DataBlog)\n",
    "TableBlog"
   ]
  },
  {
   "cell_type": "code",
   "execution_count": 30,
   "id": "51de5b5e",
   "metadata": {},
   "outputs": [],
   "source": [
    "chemin = 'C:\\\\Users\\\\valen\\\\Documents\\\\GitHub\\\\Projet-Barthel-Valentin-Coroama-Georgiana\\\\TableBlog.csv'\n",
    "df.to_csv(chemin, index=False)"
   ]
  },
  {
   "cell_type": "code",
   "execution_count": 23,
   "id": "8cfe0e8b",
   "metadata": {},
   "outputs": [],
   "source": [
    "chemin = r\"C:\\Users\\valen\\Documents\\GitHub\\Projet-Barthel-Valentin-Coroama-Georgiana\\info_blogs.txt\"\n",
    "\n",
    "# S'assurer que toutes les listes ont la même longueur\n",
    "variables = [nom_blog, localisation, site_web, fbsub_num, twitsub_num, instasub_num]\n",
    "\n",
    "with open(chemin, \"a\", encoding='utf-8') as fichier:\n",
    "    for i in range(len(variables[0])):  # Correction ici pour utiliser la longueur d'une des listes\n",
    "        fichier.write(f\"Nom: {nom_blog[i]}\\n\")\n",
    "        fichier.write(f\"Localisation: {localisation[i]}\\n\")\n",
    "        fichier.write(f\"Web: {site_web[i]}\\n\")\n",
    "        fichier.write(f\"Facebook: {fbsub_num[i]}\\n\")  # Correction: suppression de l'apostrophe superflue\n",
    "        fichier.write(f\"Twitter: {twitsub_num[i]}\\n\")\n",
    "        fichier.write(f\"Instagram: {instasub_num[i]}\\n\")\n",
    "        fichier.write(\"\\n\") "
   ]
  }
 ],
 "metadata": {
  "kernelspec": {
   "display_name": "Python 3 (ipykernel)",
   "language": "python",
   "name": "python3"
  },
  "language_info": {
   "codemirror_mode": {
    "name": "ipython",
    "version": 3
   },
   "file_extension": ".py",
   "mimetype": "text/x-python",
   "name": "python",
   "nbconvert_exporter": "python",
   "pygments_lexer": "ipython3",
   "version": "3.11.5"
  }
 },
 "nbformat": 4,
 "nbformat_minor": 5
}
