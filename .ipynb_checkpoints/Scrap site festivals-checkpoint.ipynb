{
 "cells": [
  {
   "cell_type": "code",
   "execution_count": 9,
   "id": "71a5a4a8",
   "metadata": {
    "collapsed": true
   },
   "outputs": [
    {
     "ename": "AttributeError",
     "evalue": "'NoneType' object has no attribute 'text'",
     "output_type": "error",
     "traceback": [
      "\u001b[1;31m---------------------------------------------------------------------------\u001b[0m",
      "\u001b[1;31mAttributeError\u001b[0m                            Traceback (most recent call last)",
      "Cell \u001b[1;32mIn[9], line 32\u001b[0m\n\u001b[0;32m     30\u001b[0m              social_media_links\u001b[38;5;241m.\u001b[39mappend(link[\u001b[38;5;124m'\u001b[39m\u001b[38;5;124mhref\u001b[39m\u001b[38;5;124m'\u001b[39m])\n\u001b[0;32m     31\u001b[0m         \u001b[38;5;28;01mreturn\u001b[39;00m social_media_links\n\u001b[1;32m---> 32\u001b[0m \u001b[38;5;28mprint\u001b[39m(get_event_names())\n",
      "Cell \u001b[1;32mIn[9], line 21\u001b[0m, in \u001b[0;36mget_event_names\u001b[1;34m()\u001b[0m\n\u001b[0;32m     18\u001b[0m festivals\u001b[38;5;241m=\u001b[39msoup\u001b[38;5;241m.\u001b[39mfind_all(\u001b[38;5;124m\"\u001b[39m\u001b[38;5;124mtr\u001b[39m\u001b[38;5;124m\"\u001b[39m)\n\u001b[0;32m     20\u001b[0m \u001b[38;5;28;01mfor\u001b[39;00m festival \u001b[38;5;129;01min\u001b[39;00m festivals:\n\u001b[1;32m---> 21\u001b[0m     Event\u001b[38;5;241m=\u001b[39mfestival\u001b[38;5;241m.\u001b[39mfind(\u001b[38;5;124m\"\u001b[39m\u001b[38;5;124mtd\u001b[39m\u001b[38;5;124m\"\u001b[39m, headers\u001b[38;5;241m=\u001b[39m\u001b[38;5;124m\"\u001b[39m\u001b[38;5;124mview-title-table-column\u001b[39m\u001b[38;5;124m\"\u001b[39m, class_\u001b[38;5;241m=\u001b[39m\u001b[38;5;124m\"\u001b[39m\u001b[38;5;124mviews-field views-field-title is-active\u001b[39m\u001b[38;5;124m\"\u001b[39m)\u001b[38;5;241m.\u001b[39mtext\u001b[38;5;241m.\u001b[39mstrip()\n\u001b[0;32m     23\u001b[0m     City\u001b[38;5;241m=\u001b[39m festival\u001b[38;5;241m.\u001b[39mfind(\u001b[38;5;124m\"\u001b[39m\u001b[38;5;124mtd\u001b[39m\u001b[38;5;124m\"\u001b[39m, headers\u001b[38;5;241m=\u001b[39m\u001b[38;5;124m\"\u001b[39m\u001b[38;5;124mview-field-city-table-column\u001b[39m\u001b[38;5;124m\"\u001b[39m, class_\u001b[38;5;241m=\u001b[39m\u001b[38;5;124m\"\u001b[39m\u001b[38;5;124mviews-field views-field-field-city\u001b[39m\u001b[38;5;124m\"\u001b[39m)\u001b[38;5;241m.\u001b[39mtext\u001b[38;5;241m.\u001b[39mstrip()\n\u001b[0;32m     24\u001b[0m     Region\u001b[38;5;241m=\u001b[39mfestival\u001b[38;5;241m.\u001b[39mfind(\u001b[38;5;124m\"\u001b[39m\u001b[38;5;124mtd\u001b[39m\u001b[38;5;124m\"\u001b[39m, headers\u001b[38;5;241m=\u001b[39m\u001b[38;5;124m\"\u001b[39m\u001b[38;5;124mview-field-state-region-table-column\u001b[39m\u001b[38;5;124m\"\u001b[39m, class_\u001b[38;5;241m=\u001b[39m\u001b[38;5;124m\"\u001b[39m\u001b[38;5;124mviews-field views-field-field-state-region\u001b[39m\u001b[38;5;124m\"\u001b[39m)\u001b[38;5;241m.\u001b[39mtext\u001b[38;5;241m.\u001b[39mstrip()\n",
      "\u001b[1;31mAttributeError\u001b[0m: 'NoneType' object has no attribute 'text'"
     ]
    }
   ],
   "source": [
    "import requests\n",
    "from bs4 import BeautifulSoup\n",
    "import re\n",
    "\n",
    "\n",
    "def get_all_pages():\n",
    "    urls=[]\n",
    "    page_number=0\n",
    "    for i in range(1, 15):\n",
    "      i=f\"https://www.smoothjazz.com/festivals?page={page_number}\"\n",
    "      page_number+=1\n",
    "      urls.append(i)\n",
    "    return(urls)\n",
    "\n",
    "def get_event_names():\n",
    "    r=requests.get(\"https://www.smoothjazz.com/festivals?page=0\")\n",
    "    soup=BeautifulSoup(r.content, \"html.parser\")\n",
    "    festivals=soup.find_all(\"tr\")\n",
    "    \n",
    "    for festival in festivals:\n",
    "        Event=festival.find(\"td\", headers=\"view-title-table-column\", class_=\"views-field views-field-title is-active\").text.strip()\n",
    "    \n",
    "        City= festival.find(\"td\", headers=\"view-field-city-table-column\", \n",
    "                            class_=\"views-field views-field-field-city\").text.strip()\n",
    "        Region=festival.find(\"td\", headers=\"view-field-state-region-table-column\", \n",
    "                             class_=\"views-field views-field-field-state-region\").text.strip()\n",
    "        Country=festival.find(\"td\", headers=\"view-field-country-table-column\", \n",
    "                              class_=\"views-field views-field-field-country\").text.strip()\n",
    "        Period=festival.find(\"td\", headers=\"view-field-event-month-table-column\", \n",
    "                             class_=\"views-field views-field-field-event-month\").text.strip()\n",
    "        social_links=festival.select('ul.social-links li a')\n",
    "        social_media_links=[]\n",
    "        for link in social_links:\n",
    "             social_media_links.append(link['href'])\n",
    "        return social_media_links\n",
    "print(get_event_names())               "
   ]
  },
  {
   "cell_type": "code",
   "execution_count": null,
   "id": "c1e847a3",
   "metadata": {},
   "outputs": [],
   "source": []
  },
  {
   "cell_type": "code",
   "execution_count": null,
   "id": "2ba2cb72",
   "metadata": {},
   "outputs": [],
   "source": []
  },
  {
   "cell_type": "code",
   "execution_count": null,
   "id": "4e551a81",
   "metadata": {},
   "outputs": [],
   "source": []
  },
  {
   "cell_type": "code",
   "execution_count": null,
   "id": "d2fff369",
   "metadata": {},
   "outputs": [],
   "source": []
  }
 ],
 "metadata": {
  "kernelspec": {
   "display_name": "Python 3 (ipykernel)",
   "language": "python",
   "name": "python3"
  },
  "language_info": {
   "codemirror_mode": {
    "name": "ipython",
    "version": 3
   },
   "file_extension": ".py",
   "mimetype": "text/x-python",
   "name": "python",
   "nbconvert_exporter": "python",
   "pygments_lexer": "ipython3",
   "version": "3.11.5"
  }
 },
 "nbformat": 4,
 "nbformat_minor": 5
}
