{
 "cells": [
  {
   "cell_type": "markdown",
   "id": "f1029bd2",
   "metadata": {},
   "source": [
    "#Petit test"
   ]
  },
  {
   "cell_type": "code",
   "execution_count": 6,
   "id": "fbfb7d40",
   "metadata": {},
   "outputs": [],
   "source": [
    "import sys"
   ]
  },
  {
   "cell_type": "code",
   "execution_count": 7,
   "id": "414067ba",
   "metadata": {},
   "outputs": [
    {
     "name": "stdout",
     "output_type": "stream",
     "text": [
      "3.11.5 | packaged by Anaconda, Inc. | (main, Sep 11 2023, 13:26:23) [MSC v.1916 64 bit (AMD64)]\n"
     ]
    }
   ],
   "source": [
    "print(sys.version)"
   ]
  },
  {
   "cell_type": "code",
   "execution_count": 2,
   "id": "5f515448",
   "metadata": {
    "collapsed": true
   },
   "outputs": [
    {
     "name": "stdout",
     "output_type": "stream",
     "text": [
      "Collecting httpx\n",
      "  Obtaining dependency information for httpx from https://files.pythonhosted.org/packages/41/7b/ddacf6dcebb42466abd03f368782142baa82e08fc0c1f8eaa05b4bae87d5/httpx-0.27.0-py3-none-any.whl.metadata\n",
      "  Downloading httpx-0.27.0-py3-none-any.whl.metadata (7.2 kB)\n",
      "Requirement already satisfied: anyio in c:\\users\\valen\\anaconda3\\lib\\site-packages (from httpx) (3.5.0)\n",
      "Requirement already satisfied: certifi in c:\\users\\valen\\anaconda3\\lib\\site-packages (from httpx) (2023.7.22)\n",
      "Collecting httpcore==1.* (from httpx)\n",
      "  Obtaining dependency information for httpcore==1.* from https://files.pythonhosted.org/packages/2c/93/13f25f2f78646bab97aee7680821e30bd85b2ff0fc45d5fdf5393b79716d/httpcore-1.0.4-py3-none-any.whl.metadata\n",
      "  Downloading httpcore-1.0.4-py3-none-any.whl.metadata (20 kB)\n",
      "Requirement already satisfied: idna in c:\\users\\valen\\anaconda3\\lib\\site-packages (from httpx) (3.4)\n",
      "Requirement already satisfied: sniffio in c:\\users\\valen\\anaconda3\\lib\\site-packages (from httpx) (1.2.0)\n",
      "Collecting h11<0.15,>=0.13 (from httpcore==1.*->httpx)\n",
      "  Obtaining dependency information for h11<0.15,>=0.13 from https://files.pythonhosted.org/packages/95/04/ff642e65ad6b90db43e668d70ffb6736436c7ce41fcc549f4e9472234127/h11-0.14.0-py3-none-any.whl.metadata\n",
      "  Downloading h11-0.14.0-py3-none-any.whl.metadata (8.2 kB)\n",
      "Downloading httpx-0.27.0-py3-none-any.whl (75 kB)\n",
      "   ---------------------------------------- 0.0/75.6 kB ? eta -:--:--\n",
      "   ------------------------------------- -- 71.7/75.6 kB 1.3 MB/s eta 0:00:01\n",
      "   ---------------------------------------- 75.6/75.6 kB 1.4 MB/s eta 0:00:00\n",
      "Downloading httpcore-1.0.4-py3-none-any.whl (77 kB)\n",
      "   ---------------------------------------- 0.0/77.8 kB ? eta -:--:--\n",
      "   ---------------------------------------- 77.8/77.8 kB ? eta 0:00:00\n",
      "Downloading h11-0.14.0-py3-none-any.whl (58 kB)\n",
      "   ---------------------------------------- 0.0/58.3 kB ? eta -:--:--\n",
      "   ---------------------------------------- 58.3/58.3 kB 3.2 MB/s eta 0:00:00\n",
      "Installing collected packages: h11, httpcore, httpx\n",
      "Successfully installed h11-0.14.0 httpcore-1.0.4 httpx-0.27.0\n",
      "Note: you may need to restart the kernel to use updated packages.\n"
     ]
    }
   ],
   "source": [
    "pip install httpx"
   ]
  },
  {
   "cell_type": "markdown",
   "id": "c8ba05e7",
   "metadata": {},
   "source": [
    "Différente tentative:"
   ]
  },
  {
   "cell_type": "code",
   "execution_count": 6,
   "id": "1df5a168",
   "metadata": {},
   "outputs": [],
   "source": [
    "import requests \n",
    "import random \n",
    "import pprint\n",
    "import re\n",
    "import time\n",
    "from collections import defaultdict\n",
    "from bs4 import BeautifulSoup\n",
    "import numpy as np\n",
    "import tqdm\n",
    "\n",
    "import httpx\n",
    "from selectolax.parser import HTMLParser"
   ]
  },
  {
   "cell_type": "code",
   "execution_count": 4,
   "id": "b15d638b",
   "metadata": {},
   "outputs": [],
   "source": [
    "url = \"https://music.feedspot.com/jazz_blogs/\""
   ]
  },
  {
   "cell_type": "code",
   "execution_count": 3,
   "id": "d53908f8",
   "metadata": {},
   "outputs": [],
   "source": [
    "def get_url(url):\n",
    "    '''\n",
    "    Function to retrieve the HTML content of a given URL by using a fake user agent.\n",
    "    \n",
    "    Args:\n",
    "        url (str): The URL to retrieve the content from.\n",
    "        \n",
    "    Returns:\n",
    "        str: The HTML content of the URL.\n",
    "    '''\n",
    "    user_agents_list = [\n",
    "        'Mozilla/5.0 (iPad; CPU OS 12_2 like Mac OS X) AppleWebKit/605.1.15 (KHTML, like Gecko) Mobile/15E148',\n",
    "        'Mozilla/5.0 (Macintosh; Intel Mac OS X 10_15_7) AppleWebKit/537.36 (KHTML, like Gecko) Chrome/99.0.4844.83 Safari/537.36',\n",
    "        'Mozilla/5.0 (Windows NT 10.0; Win64; x64) AppleWebKit/537.36 (KHTML, like Gecko) Chrome/99.0.4844.51 Safari/537.36'\n",
    "        ]\n",
    "    r = requests.get(url, headers={'User-Agent': random.choice(user_agents_list)})\n",
    "    return BeautifulSoup(r.text)"
   ]
  },
  {
   "cell_type": "code",
   "execution_count": 7,
   "id": "6d7c7699",
   "metadata": {},
   "outputs": [
    {
     "name": "stdout",
     "output_type": "stream",
     "text": [
      "75\n",
      "['Free Jazz', 'Jazz&Blues', 'A Jazz Noise', 'Yoko Miwa ', 'LondonJazz', 'New York Jazz Workshop Blog', 'JazzWax', 'Pitchfork » Jazz', 'All About Jazz', 'Library of Congress » Jazz ', 'WartaJazz.com', 'The Jazz Mann', 'Jazzwise', 'Ottawa Citizen » Jazz Blog ', 'Jazz Journal', 'Wynton Marsalis ', 'TD Ottawa Jazz Festival', 'Jazz In Europe', 'Jazz Chill Music', 'Jazz You Too', 'SFJAZZ ', 'Jazz Lives Blog ', 'New York Amsterdam » Jazz Notes', 'bebop spoken here', 'CapitalBop', 'Jazz Blues Florida', 'Jazz Profiles', 'JazzRochester Blog', 'Marlbank Jazz Blog', 'UK Vibe', 'TheJazzWorld', 'Coastal Jazz & Blues Society Blog', 'Polish-Jazz', 'Jazzfuel', 'Open Sky Jazz', 'Vortex Jazz Club', 'The Blue Moment » Jazz ', 'Learn Jazz Standards ', 'Debbie Burke ', 'Jazz Aspen Snowmass', 'Jazz Journalists Association ', 'WZUM Jazz Pittsburgh', 'Four on the Floor', 'Jazz24', 'Jazz guitar Licks Blog', 'SimplyJazzTalk Blog', 'Stringspace Blog', 'Free Jazz Lessons Blog ', 'All That Philly Jazz', 'Tracce di Jazz', 'JazzTrail Blog ', 'SomehowJazz', 'Canberra Jazz blog', 'PDX Jazz Blog PDX Jazz', 'Ausjazz Blog', 'Tokyo Jazz Site Blog', 'Lancaster Jazz Blog ', 'JazzArts Charlotte Blog ', 'Gapplegate Music Review', 'Clean Feed Records', 'Caravan Jazz', 'Ellington Reflections', 'Decidedly Jazz Danceworks', 'Brilliant Corners', 'Jazz Workshop Australia', 'Sun Prairie Band Boosters » Jazz ', \"Uncle Paul's Jazz Closet\", 'Neon Jazz', 'Best of Jazz', 'Jazz Promotion Network Blog ', 'Jazz | The Music of Unemployment', 'The Jazz Clarinet', 'JazzLocal32.com', 'Jazz from Geoff', 'Kansas City Jazz Ambassadors Blog']\n"
     ]
    }
   ],
   "source": [
    "def get_names(url):\n",
    "    soup = get_url(url)\n",
    "    h3s = soup.find_all('h3', attrs={'class':'feed_heading'})\n",
    "    \n",
    "    noms = []\n",
    "    \n",
    "    for h3 in h3s:\n",
    "        nns = h3.find_all('a', class_='tlink fd_lk')\n",
    "        \n",
    "        if len(nns) > 0:\n",
    "            # Accès direct au texte de chaque élément span trouvé\n",
    "            for nn in nns:\n",
    "                noms.append(nn.get_text())\n",
    "        else:\n",
    "            noms.append('none')\n",
    "    return noms\n",
    "\n",
    "nom_blog = get_names(\"https://music.feedspot.com/jazz_blogs/\")\n",
    "print(len(nom_blog))\n",
    "print(nom_blog)"
   ]
  },
  {
   "cell_type": "code",
   "execution_count": null,
   "id": "687d495b",
   "metadata": {},
   "outputs": [],
   "source": [
    "#{nom_blog}@gmail.com"
   ]
  },
  {
   "cell_type": "code",
   "execution_count": 15,
   "id": "f39d66d3",
   "metadata": {},
   "outputs": [
    {
     "name": "stdout",
     "output_type": "stream",
     "text": [
      "75\n",
      "['US', 'Paris, Ile-de-France, France', 'Barcelona, Catalunya, Spain', 'Boston, Massachusetts, US', 'London, England, UK', 'New York, US', 'US', 'US', 'Philadelphia, Pennsylvania, US', 'Washington, District of Columbia, US', 'Yogyakarta, Indonesia', 'UK ', 'London, England, UK', 'none', 'London, England, UK', 'New York, US', 'Ottawa, Ontario, Canada', 'Hengelo, Overijssel, Netherlands', 'Florida, US', 'none', 'San Francisco, California, US', 'New York, US', 'Harlem, New York, US', 'US', 'Washington, District of Columbia, US', 'Florida, US', 'none', 'Rochester, New York, US', 'none', 'UK', 'Las Vegas, Nevada, US', 'Vancouver, British Columbia, Canada', 'Poland ', 'none', 'Rockville, Maryland, US', 'England, UK', 'London, England, UK', 'New York, US', 'New York City, New York, US', 'Aspen, Colorado, US', 'New York City, New York, US', 'Pittsburgh, Pennsylvania, US', 'Calgary, Alberta, Canada', 'Seattle, Washington, US', 'France', 'England, UK', 'Australia', 'Chicago, Illinois, US', 'Philadelphia, Pennsylvania, US', 'Italy', 'New York City, New York, US', 'California, US', 'none', 'Portland, Oregon, US', 'Melbourne, Victoria, Australia', 'Yokohama, Kanagawa, Japan', 'Lancaster, England, UK', 'Charlotte, North Carolina, US', 'Ridgefield Park, New Jersey, US', 'Portugal', 'none', 'Pasadena, California, US', 'Calgary, Alberta, Canada', 'Boston, Massachusetts, US', 'Sydney, New South Wales, Australia', 'none', 'none', 'Kansas City, Missouri, US', 'none', 'none', 'Portland, Oregon, US', 'Cleveland, Ohio, US', 'Auckland, New Zealand', 'UK', 'Kansas City, Missouri, US']\n"
     ]
    }
   ],
   "source": [
    "def get_locals(url):\n",
    "    soup = get_url(url)\n",
    "    h3s = soup.find_all('p', attrs={'class':'trow trow-wrap'})\n",
    "    \n",
    "    locals_ = []\n",
    "    \n",
    "    for h3 in h3s:\n",
    "        nns = h3.find_all('span', class_='location_new')\n",
    "        \n",
    "        if len(nns) > 0:\n",
    "            # Accès direct au texte de chaque élément span trouvé\n",
    "            for nn in nns:\n",
    "                locals_.append(nn.get_text())\n",
    "        else:\n",
    "            locals_.append('none')\n",
    "    return locals_\n",
    "\n",
    "localisation = get_locals(\"https://music.feedspot.com/jazz_blogs/\")\n",
    "print(len(localisation))\n",
    "print(localisation)"
   ]
  },
  {
   "cell_type": "code",
   "execution_count": 16,
   "id": "c0aa180d",
   "metadata": {},
   "outputs": [
    {
     "data": {
      "text/plain": [
       "str"
      ]
     },
     "execution_count": 16,
     "metadata": {},
     "output_type": "execute_result"
    }
   ],
   "source": []
  },
  {
   "cell_type": "code",
   "execution_count": 10,
   "id": "5fabe548",
   "metadata": {},
   "outputs": [
    {
     "name": "stdout",
     "output_type": "stream",
     "text": [
      "75\n",
      "['freejazzblog.org', 'youtube.com/cha..', 'ajazznoise.com', 'yokomiwa.com/blog', 'londonjazznews.com', 'newyorkjazzworksho..', 'jazzwax.com', 'pitchfork.com/news..', 'allaboutjazz.com/p..', 'blogs.loc.gov/musi..', 'wartajazz.com', 'thejazzmann.com', 'jazzwise.com/news', 'ottawacitizen.com/..', 'jazzjournal.co.uk', 'wyntonmarsalis.org..', 'ottawajazzfestival..', 'jazzineurope.mfmme..', 'jazzchill.blogspot..', 'jazzyoutoo.wordpre..', 'sfjazz.org/ontheco..', 'jazzlives.wordpres..', 'amsterdamnews.com/..', 'lance-bebopspokenh..', 'capitalbop.com', 'jazz-bluesflorida...', 'jazzprofiles.blogs..', 'jazzrochester.com', 'marlbank.net', 'ukvibe.org', 'thejazzworld.com/blog', 'coastaljazz.ca/blog', 'polish-jazz.blogsp..', 'jazzfuel.com/jazz-..', 'openskyjazz.com', 'vortexjazz.co.uk/news', 'thebluemoment.com/..', 'learnjazzstandards..', 'debbieburkeauthor.com', 'jazzaspensnowmass...', 'news.jazzjournalis..', 'wzum.org/jazz-blog', 'jonmccaslinjazzdru..', 'jazz24.org/categor..', 'jazz-guitar-licks...', 'simplyjazztalk.blog', 'stringspace.com.au..', 'freejazzlessons.co..', 'phillyjazz.us', 'traccedijazz.com', 'jazztrail.net/blog', 'somehowjazz.com/blog', 'canberrajazz.blogs..', 'pdxjazz.com/news', 'ausjazz.net', 'tokyojazzsite.com/..', 'lancasterjazz.com/..', 'thejazzarts.org/ne..', 'gapplegatemusicrev..', 'cleanfeed-records...', 'caravanjazz.es', 'ellingtonreflectio..', 'decidedlyjazz.com/..', 'brilliantcornersab..', 'jazzworkshopaustra..', 'spbb.org/jazz-news', 'jazzcloset.blogspo..', 'theneonjazz.blogsp..', 'bestofjazz.org', 'jazzpromotionnetwo..', 'uglyrug.blogspot.com', 'thejazzclarinet.bl..', 'jazzlocal32.com/au..', 'jazzfromgeoff.blog..', 'kcjazzambassadors...']\n"
     ]
    }
   ],
   "source": [
    "def get_webs(url):\n",
    "    soup = get_url(url)\n",
    "    h3s = soup.find_all('p', attrs={'class':'trow trow-wrap'})\n",
    "    \n",
    "    webs = []\n",
    "    \n",
    "    for h3 in h3s:\n",
    "        nns = h3.find_all('a', class_='ext')\n",
    "        \n",
    "        if len(nns) > 0:\n",
    "            # Accès direct au texte de chaque élément span trouvé\n",
    "            for nn in nns:\n",
    "                webs.append(nn.get_text())\n",
    "        else:\n",
    "            webs.append('none')\n",
    "    return webs\n",
    "site_web = get_webs(\"https://music.feedspot.com/jazz_blogs/\")\n",
    "print(len(site_web))\n",
    "print(site_web)"
   ]
  },
  {
   "cell_type": "code",
   "execution_count": 196,
   "id": "c6397bba",
   "metadata": {},
   "outputs": [
    {
     "name": "stdout",
     "output_type": "stream",
     "text": [
      "75\n",
      "['3.9K', '765', '1.5K', '1.3K', '51.5K', '1.6K', '11.7K', '3.2M', '92.6K', '1.2M', '19.5K', '4.9K', '56.3K', '249.6K', '11.3K', '135.8K', '18.1K', '31.8K', '11.9K', '1.3K', '28.1K', '434', '14.9K', '624', '3.5K', '34', 'none', '11.3K', 'none', 'none', 'none', '12.2K', 'none', '5.9K', '1.6K', '25.4K', '25.8K', '1.3K', '2.1K', '4.1K', '7K', '373', '939', '2.1K', '914', '2.3K', '164', '375', '1.4K', '229', 'none', '749', 'none', '2.3K', '367', '2.7K', '2.4K', '1.4K', 'none', 'none', '3K', '647', 'none', '1.3K', '17', 'none', 'none', 'none', '528', '1.8K', '1.1K', '1K', '53', 'none', 'none']\n",
      "75\n",
      "['1.6K', '123.7K', '2K', '3.5K', '7.8K', '16K', 'none', '1.4M', '129.1K', '497.4K', '4.8K', 'none', '21.6K', '194.7K', '1.9K', '785.3K', '12.8K', '11.4K', 'none', 'none', '85.5K', 'none', '54.6K', 'none', '3.3K', '7.4K', 'none', '1.3K', 'none', 'none', '115', '10.7K', 'none', '5.2K', 'none', '7.9K', 'none', '28.6K', '578', '20K', 'none', 'none', '997', '6.6K', '43K', '15', '5.3K', '3.6K', 'none', '6.4K', '1.4K', '58.1K', 'none', '9.6K', '772', 'none', '2.1K', '6.6K', '307', '5.5K', 'none', '45', '4.8K', 'none', '2.6K', 'none', '677', '235', 'none', '583', 'none', 'none', 'none', 'none', '3.2K']\n",
      "75\n",
      "['none', 'none', 'none', '2.4K', 'none', 'none', 'none', '1.5M', '4.1K', 'none', '10.4K', 'none', '11K', '51.2K', 'none', '324.5K', '6.8K', '4.9K', 'none', 'none', '108.8K', 'none', '17.3K', 'none', '3.1K', '3.7K', 'none', '889', 'none', 'none', '262', '5.8K', 'none', '1.5K', 'none', 'none', 'none', '16.4K', 'none', '8K', 'none', '685', '921', '3.9K', '111.6K', 'none', '2.4K', 'none', 'none', 'none', 'none', '312', 'none', '6.4K', 'none', 'none', '2.1K', '3.4K', 'none', 'none', '1.2K', 'none', '7K', 'none', 'none', 'none', 'none', 'none', 'none', 'none', 'none', 'none', 'none', 'none', 'none']\n"
     ]
    }
   ],
   "source": [
    "def get_followers(url, name_class):\n",
    "    \n",
    "    soup = get_url(url)\n",
    "    spans = soup.find_all('span', attrs={'class':'eng-outer-wrapper eng-outer-wrapper eng-outer-nodot eng-outer-wrapper--free'})\n",
    "\n",
    "    abo = []\n",
    "   \n",
    "    for span in spans:\n",
    "\n",
    "        imgs = span.find_all('span', class_=f'{name_class}')\n",
    "        \n",
    "        if len(imgs) > 0:\n",
    "            lst = [img.find_all(\"span\", class_='eng_v') for img in imgs] \n",
    "            abo.append(lst[0][0].get_text())   \n",
    "        else : abo.append('none')\n",
    "\n",
    "    return abo\n",
    "\n",
    "twitsub = get_followers(\"https://music.feedspot.com/jazz_blogs/\", \"fs-twitter\")\n",
    "fbsub = get_followers(\"https://music.feedspot.com/jazz_blogs/\", \"fs-facebook\")\n",
    "instasub = get_followers(\"https://music.feedspot.com/jazz_blogs/\", \"fs-instagram\")\n",
    "                      \n",
    "print(len(twitsub))\n",
    "print(twitsub)\n",
    "\n",
    "print(len(fbsub))\n",
    "print(fbsub)\n",
    "\n",
    "print(len(instasub))\n",
    "print(instasub)"
   ]
  },
  {
   "cell_type": "code",
   "execution_count": 206,
   "id": "484a4585",
   "metadata": {
    "scrolled": false
   },
   "outputs": [
    {
     "data": {
      "text/plain": [
       "75"
      ]
     },
     "execution_count": 206,
     "metadata": {},
     "output_type": "execute_result"
    }
   ],
   "source": [
    "def convertir_en_nombre(abonnes_str):\n",
    "    # Gère le cas spécial où la chaîne est 'none'\n",
    "    if abonnes_str == 'none':\n",
    "        return 0  # Retourne 0 ou une autre valeur par défaut appropriée\n",
    "    # Supprime 'K', multiplie par 1000 si 'K' était présent\n",
    "    if 'K' in abonnes_str:\n",
    "        return int(float(abonnes_str.replace('K', '')) * 1000)\n",
    "    # Ajoute une condition pour gérer les cas où 'M' est présent\n",
    "    elif 'M' in abonnes_str:\n",
    "        return int(float(abonnes_str.replace('M', '')) * 1000000)\n",
    "    # Supprime les points et les virgules avant de convertir en int\n",
    "    return int(abonnes_str.replace('.', '').replace(',', ''))\n",
    "\n",
    "# Application de la fonction à tous les éléments des listes\n",
    "fbsub_num = [convertir_en_nombre(abonne) for abonne in fbsub]\n",
    "twitsub_num = [convertir_en_nombre(abonne) for abonne in twitsub]\n",
    "instasub_num = [convertir_en_nombre(abonne) for abonne in instasub]\n",
    "len(instasub_num)"
   ]
  },
  {
   "cell_type": "code",
   "execution_count": 14,
   "id": "8cfe0e8b",
   "metadata": {},
   "outputs": [
    {
     "ename": "NameError",
     "evalue": "name 'fbsub_num' is not defined",
     "output_type": "error",
     "traceback": [
      "\u001b[1;31m---------------------------------------------------------------------------\u001b[0m",
      "\u001b[1;31mNameError\u001b[0m                                 Traceback (most recent call last)",
      "Cell \u001b[1;32mIn[14], line 4\u001b[0m\n\u001b[0;32m      1\u001b[0m chemin \u001b[38;5;241m=\u001b[39m \u001b[38;5;124mr\u001b[39m\u001b[38;5;124m\"\u001b[39m\u001b[38;5;124mC:\u001b[39m\u001b[38;5;124m\\\u001b[39m\u001b[38;5;124mUsers\u001b[39m\u001b[38;5;124m\\\u001b[39m\u001b[38;5;124mvalen\u001b[39m\u001b[38;5;124m\\\u001b[39m\u001b[38;5;124mDesktop\u001b[39m\u001b[38;5;124m\\\u001b[39m\u001b[38;5;124mPython txt\u001b[39m\u001b[38;5;124m\\\u001b[39m\u001b[38;5;124mmon_fichier3.txt\u001b[39m\u001b[38;5;124m\"\u001b[39m\n\u001b[0;32m      3\u001b[0m \u001b[38;5;66;03m# S'assurer que toutes les listes ont la même longueur\u001b[39;00m\n\u001b[1;32m----> 4\u001b[0m variables \u001b[38;5;241m=\u001b[39m [nom_blog, localisation, site_web, fbsub_num, twitsub_num, instasub_num]\n\u001b[0;32m      6\u001b[0m \u001b[38;5;28;01mwith\u001b[39;00m \u001b[38;5;28mopen\u001b[39m(chemin, \u001b[38;5;124m\"\u001b[39m\u001b[38;5;124ma\u001b[39m\u001b[38;5;124m\"\u001b[39m, encoding\u001b[38;5;241m=\u001b[39m\u001b[38;5;124m'\u001b[39m\u001b[38;5;124mutf-8\u001b[39m\u001b[38;5;124m'\u001b[39m) \u001b[38;5;28;01mas\u001b[39;00m fichier:\n\u001b[0;32m      7\u001b[0m     \u001b[38;5;28;01mfor\u001b[39;00m i \u001b[38;5;129;01min\u001b[39;00m \u001b[38;5;28mrange\u001b[39m(\u001b[38;5;28mlen\u001b[39m(variables[\u001b[38;5;241m0\u001b[39m])):  \u001b[38;5;66;03m# Correction ici pour utiliser la longueur d'une des listes\u001b[39;00m\n",
      "\u001b[1;31mNameError\u001b[0m: name 'fbsub_num' is not defined"
     ]
    }
   ],
   "source": [
    "chemin = r\"C:\\Users\\valen\\Documents\\GitHub\\Projet-Barthel-Valentin-Coroama-Georgiana\\info_blogs.txt\"\n",
    "\n",
    "# S'assurer que toutes les listes ont la même longueur\n",
    "variables = [nom_blog, localisation, site_web, fbsub_num, twitsub_num, instasub_num]\n",
    "\n",
    "with open(chemin, \"a\", encoding='utf-8') as fichier:\n",
    "    for i in range(len(variables[0])):  # Correction ici pour utiliser la longueur d'une des listes\n",
    "        fichier.write(f\"Nom: {nom_blog[i]}\\n\")\n",
    "        fichier.write(f\"Localisation: {localisation[i]}\\n\")\n",
    "        fichier.write(f\"Web: {site_web[i]}\\n\")\n",
    "        fichier.write(f\"Facebook: {fbsub_num[i]}\\n\")  # Correction: suppression de l'apostrophe superflue\n",
    "        fichier.write(f\"Twitter: {twitsub_num[i]}\\n\")\n",
    "        fichier.write(f\"Instagram: {instasub_num[i]}\\n\")\n",
    "        fichier.write(\"\\n\") "
   ]
  },
  {
   "cell_type": "code",
   "execution_count": null,
   "id": "330761a3",
   "metadata": {},
   "outputs": [],
   "source": [
    "#Avec:\n",
    "import httpx\n",
    "from selectolax.parser import HTMLParser"
   ]
  },
  {
   "cell_type": "code",
   "execution_count": null,
   "id": "aeafb8c3",
   "metadata": {},
   "outputs": [],
   "source": [
    "url_du_site = \"https://music.feedspot.com/jazz_blogs/\""
   ]
  },
  {
   "cell_type": "code",
   "execution_count": 17,
   "id": "a6d21e20",
   "metadata": {},
   "outputs": [],
   "source": [
    "def fetch_and_parse(url, selector, attribute=None):\n",
    "    try:\n",
    "        with httpx.Client() as client:\n",
    "            response = client.get(url)\n",
    "            response.raise_for_status()  # Raises exception for 4xx/5xx responses\n",
    "            html = HTMLParser(response.text)    \n",
    "            if attribute:\n",
    "                return [node.attributes[attribute] for node in html.css(selector)]\n",
    "            else:\n",
    "                return [node.text() for node in html.css(selector)]\n",
    "    except Exception as e:\n",
    "        \"\"\n",
    "    return [\"\"]"
   ]
  },
  {
   "cell_type": "code",
   "execution_count": 101,
   "id": "9188d55d",
   "metadata": {
    "collapsed": true
   },
   "outputs": [
    {
     "data": {
      "text/plain": [
       "['none',\n",
       " 'none',\n",
       " 'none',\n",
       " '2.4K',\n",
       " 'none',\n",
       " 'none',\n",
       " 'none',\n",
       " '1.5M',\n",
       " '4.1K',\n",
       " 'none',\n",
       " '10.4K',\n",
       " 'none',\n",
       " '11K',\n",
       " '51.2K',\n",
       " 'none',\n",
       " '324.5K',\n",
       " '6.8K',\n",
       " '4.9K',\n",
       " 'none',\n",
       " 'none',\n",
       " '108.8K',\n",
       " 'none',\n",
       " '17.3K',\n",
       " 'none',\n",
       " '3.1K',\n",
       " '3.7K',\n",
       " 'none',\n",
       " '889',\n",
       " 'none',\n",
       " 'none',\n",
       " '262',\n",
       " '5.8K',\n",
       " 'none',\n",
       " '1.5K',\n",
       " 'none',\n",
       " 'none',\n",
       " 'none',\n",
       " '16.4K',\n",
       " 'none',\n",
       " '8K',\n",
       " 'none',\n",
       " '685',\n",
       " '921',\n",
       " '3.9K',\n",
       " '111.6K',\n",
       " 'none',\n",
       " '2.4K',\n",
       " 'none',\n",
       " 'none',\n",
       " 'none',\n",
       " 'none',\n",
       " '312',\n",
       " 'none',\n",
       " '6.4K',\n",
       " 'none',\n",
       " 'none',\n",
       " '2.1K',\n",
       " '3.4K',\n",
       " 'none',\n",
       " 'none',\n",
       " '1.2K',\n",
       " 'none',\n",
       " '7K',\n",
       " 'none',\n",
       " 'none',\n",
       " 'none',\n",
       " 'none',\n",
       " 'none',\n",
       " 'none',\n",
       " 'none',\n",
       " 'none',\n",
       " 'none',\n",
       " 'none',\n",
       " 'none',\n",
       " 'none']"
      ]
     },
     "execution_count": 101,
     "metadata": {},
     "output_type": "execute_result"
    }
   ],
   "source": []
  },
  {
   "cell_type": "code",
   "execution_count": 105,
   "id": "c58a53a1",
   "metadata": {},
   "outputs": [
    {
     "name": "stdout",
     "output_type": "stream",
     "text": [
      "1\n",
      "77\n",
      "64\n",
      "75\n"
     ]
    }
   ],
   "source": [
    "titre = fetch_and_parse(url_du_site, \"h1\")  # Extrait le premier titre h1\n",
    "noms = fetch_and_parse(url_du_site, \"h3\")  # Extrait tous les textes h3\n",
    "localisations = fetch_and_parse(url_du_site, '.location_new')  # Extrait les localisations\n",
    "web = fetch_and_parse(url_du_site, '.ext', 'href')  # Extrait les URLs des liens externes\n",
    "#fbsub = dfetch_and_parse(url_du_site, '.fs-facebook')\n",
    "#twitsub = dfetch_and_parse(url_du_site, '.fs-twitter')\n",
    "#instasub = dfetch_and_parse(url_du_site, '.fs-instagram')\n",
    "\n",
    "print(len(titre))\n",
    "print(len(noms))\n",
    "print(len(localisations))\n",
    "print(len(web))\n",
    "#print(fbsub)\n",
    "#print(twitsub)\n",
    "#print(instasub)"
   ]
  },
  {
   "cell_type": "code",
   "execution_count": 95,
   "id": "0eefab09",
   "metadata": {},
   "outputs": [
    {
     "name": "stdout",
     "output_type": "stream",
     "text": [
      "['1.6K', '123.7K', '2K', '3.5K', '7.8K', '16K', 'None', '1.4M', '129.1K', '497.4K', '4.8K', 'None', '21.6K', '194.7K', '1.9K', '785.3K', '12.8K', '11.4K', 'None', 'None', '85.5K', 'None', '54.6K', 'None', '3.3K', '7.4K', 'None', '1.3K', 'None', 'None', '115', '10.7K', 'None', '5.2K', 'None', '7.9K', 'None', '28.6K', '578', '20K', 'None', 'None', '997', '6.6K', '43K', '15', '5.3K', '3.6K', 'None', '6.4K', '1.4K', '58.1K', 'None', '9.6K', '772', 'None', '2.1K', '6.6K', '307', '5.5K', 'None', '45', '4.8K', 'None', '2.6K', 'None', '677', '235', 'None', '583', 'None', 'None', 'None', 'None', '3.2K']\n",
      "[3900, 1500, 1300, 51500, 1600, 11700, 92600, 19500, 4900, 56300, 249600, 11300, 135800, 18100, 31800, 11900, 1300, 28100, 14900, 3500, 11300, 12200, 5900, 1600, 25400, 25800, 1300, 2100, 4100, 7000, 2100, 2300, 1400, 2300, 2700, 2400, 1400, 3000, 1300, 1800, 1100, 1000]\n",
      "[2400, 4100, 10400, 11000, 51200, 324500, 6800, 4900, 108800, 17300, 3100, 3700, 5800, 1500, 16400, 8000, 3900, 111600, 2400, 6400, 2100, 3400, 1200, 7000]\n"
     ]
    }
   ],
   "source": [
    "def convertir_en_nombre(abonnes_str):\n",
    "    # Supprime 'K', multiplie par 1000 si 'K' était présent\n",
    "    if 'K' in abonnes_str:\n",
    "        return int(float(abonnes_str.replace('K', '')) * 1000)\n",
    "    return int(abonnes_str.replace('.', '').replace(',', ''))\n",
    "\n",
    "# Application de la fonction optimisée sans besoin de prétraitement spécifique pour 'K'\n",
    "fbsub_numerique = [convertir_en_nombre(abonne) for abonne in fbsub if 'K' in abonne]\n",
    "twitsub_numerique = [convertir_en_nombre(abonne) for abonne in twitsub if 'K' in abonne]\n",
    "instasub_numerique = [convertir_en_nombre(abonne) for abonne in instasub if 'K' in abonne]\n",
    "\n",
    "print(abo)\n",
    "print(twitsub_numerique)\n",
    "print(instasub_numerique)"
   ]
  },
  {
   "cell_type": "code",
   "execution_count": 7,
   "id": "f463423b",
   "metadata": {
    "collapsed": true
   },
   "outputs": [
    {
     "name": "stdout",
     "output_type": "stream",
     "text": [
      "<class 'str'> 100 Best Jazz Blogs and Websites\n",
      "<class 'list'> [' 1. Free Jazz ', ' 2. Jazz&Blues ', ' 3. A Jazz Noise ', ' 4. Yoko Miwa  ', ' 5. LondonJazz ', ' 6. New York Jazz Workshop Blog ', ' 7. JazzWax ', ' 8. Pitchfork » Jazz ', ' 9. All About Jazz ', ' 10. Library of Congress » Jazz  ', ' 11. WartaJazz.com ', ' 12. The Jazz Mann ', ' 13. Jazzwise ', ' 14. Ottawa Citizen » Jazz Blog  ', ' 15. Jazz Journal ', ' 16. Wynton Marsalis  ', ' 17. TD Ottawa Jazz Festival ', ' 18. Jazz In Europe ', ' 19. Jazz Chill Music ', ' 20. Jazz You Too ', ' 21. SFJAZZ  ', ' 22. Jazz Lives Blog  ', ' 23. New York Amsterdam » Jazz Notes ', ' 24. bebop spoken here ', ' 25. CapitalBop ', ' 26. Jazz Blues Florida ', ' 27. Jazz Profiles ', ' 28. JazzRochester Blog ', ' 29. Marlbank Jazz Blog ', ' 30. UK Vibe ', ' 31. TheJazzWorld ', ' 32. Coastal Jazz & Blues Society Blog ', ' 33. Polish-Jazz ', ' 34. Jazzfuel ', ' 35. Open Sky Jazz ', ' 36. Vortex Jazz Club ', ' 37. The Blue Moment » Jazz  ', ' 38. Learn Jazz Standards  ', ' 39. Debbie Burke  ', ' 40. Jazz Aspen Snowmass ', ' 41. Jazz Journalists Association  ', ' 42. WZUM Jazz Pittsburgh ', ' 43. Four on the Floor ', ' 44. Jazz24 ', ' 45. Jazz guitar Licks Blog ', ' 46. SimplyJazzTalk Blog ', ' 47. Stringspace Blog ', ' 48. Free Jazz Lessons Blog  ', ' 49. All That Philly Jazz ', ' 50. Tracce di Jazz ', ' 51. JazzTrail Blog  ', ' 52. SomehowJazz ', ' 53. Canberra Jazz blog ', ' 54. PDX Jazz Blog PDX Jazz ', ' 55. Ausjazz Blog ', ' 56. Tokyo Jazz Site Blog ', ' 57. Lancaster Jazz Blog  ', ' 58. JazzArts Charlotte Blog  ', ' 59. Gapplegate Music Review ', ' 60. Clean Feed Records ', ' 61. Caravan Jazz ', ' 62. Ellington Reflections ', ' 63. Decidedly Jazz Danceworks ', ' 64. Brilliant Corners ', ' 65. Jazz Workshop Australia ', ' 66. Sun Prairie Band Boosters » Jazz  ', \" 67. Uncle Paul's Jazz Closet \", ' 68. Neon Jazz ', ' 69. Best of Jazz ', ' 70. Jazz Promotion Network Blog  ', ' 71. Jazz | The Music of Unemployment ', ' 72. The Jazz Clarinet ', ' 73. JazzLocal32.com ', ' 74. Jazz from Geoff ', ' 75. Kansas City Jazz Ambassadors Blog ', 'Jazz Bloggers ', 'UK']\n",
      "<class 'list'> ['US', 'Paris, Ile-de-France, France', 'Barcelona, Catalunya, Spain', 'Boston, Massachusetts, US', 'London, England, UK', 'New York, US', 'US', 'US', 'Philadelphia, Pennsylvania, US', 'Washington, District of Columbia, US', 'Yogyakarta, Indonesia', 'UK ', 'London, England, UK', 'London, England, UK', 'New York, US', 'Ottawa, Ontario, Canada', 'Hengelo, Overijssel, Netherlands', 'Florida, US', 'San Francisco, California, US', 'New York, US', 'Harlem, New York, US', 'US', 'Washington, District of Columbia, US', 'Florida, US', 'Rochester, New York, US', 'UK', 'Las Vegas, Nevada, US', 'Vancouver, British Columbia, Canada', 'Poland ', 'Rockville, Maryland, US', 'England, UK', 'London, England, UK', 'New York, US', 'New York City, New York, US', 'Aspen, Colorado, US', 'New York City, New York, US', 'Pittsburgh, Pennsylvania, US', 'Calgary, Alberta, Canada', 'Seattle, Washington, US', 'France', 'England, UK', 'Australia', 'Chicago, Illinois, US', 'Philadelphia, Pennsylvania, US', 'Italy', 'New York City, New York, US', 'California, US', 'Portland, Oregon, US', 'Melbourne, Victoria, Australia', 'Yokohama, Kanagawa, Japan', 'Lancaster, England, UK', 'Charlotte, North Carolina, US', 'Ridgefield Park, New Jersey, US', 'Portugal', 'Pasadena, California, US', 'Calgary, Alberta, Canada', 'Boston, Massachusetts, US', 'Sydney, New South Wales, Australia', 'Kansas City, Missouri, US', 'Portland, Oregon, US', 'Cleveland, Ohio, US', 'Auckland, New Zealand', 'UK', 'Kansas City, Missouri, US']\n",
      "<class 'list'> ['https://www.freejazzblog.org/?utm_source=feedspot', 'https://www.youtube.com/channel/UCLue5AhDOIpePYzlc3rOVVQ?utm_source=feedspot', 'https://ajazznoise.com/?utm_source=feedspot', 'http://www.yokomiwa.com/blog/?utm_source=feedspot', 'https://londonjazznews.com/?utm_source=feedspot', 'https://newyorkjazzworkshop.com/blog/?utm_source=feedspot', 'https://www.jazzwax.com/?utm_source=feedspot', 'https://pitchfork.com/news/?genre=jazz&utm_source=feedspot', 'https://www.allaboutjazz.com/php/article_center.php?utm_source=feedspot', 'https://blogs.loc.gov/music/category/jazz/?utm_source=feedspot', 'https://wartajazz.com/?utm_source=feedspot', 'https://www.thejazzmann.com?utm_source=feedspot', 'https://www.jazzwise.com/news?utm_source=feedspot', 'https://ottawacitizen.com/category/entertainment/jazzblog/?utm_source=feedspot', 'https://jazzjournal.co.uk/?utm_source=feedspot', 'https://wyntonmarsalis.org/news/?utm_source=feedspot', 'https://ottawajazzfestival.com/?utm_source=feedspot', 'https://jazzineurope.mfmmedia.nl/?utm_source=feedspot', 'https://jazzchill.blogspot.com/?utm_source=feedspot', 'https://jazzyoutoo.wordpress.com/?utm_source=feedspot', 'https://www.sfjazz.org/onthecorner/?utm_source=feedspot', 'https://jazzlives.wordpress.com/?utm_source=feedspot', 'https://amsterdamnews.com/news/category/jazz-notes/?utm_source=feedspot', 'https://lance-bebopspokenhere.blogspot.com/?utm_source=feedspot', 'https://www.capitalbop.com/?utm_source=feedspot', 'https://jazz-bluesflorida.blogspot.com/?utm_source=feedspot', 'https://jazzprofiles.blogspot.com/?utm_source=feedspot', 'https://www.jazzrochester.com/?utm_source=feedspot', 'https://www.marlbank.net/?utm_source=feedspot', 'https://ukvibe.org/?utm_source=feedspot', 'https://thejazzworld.com/blog/?utm_source=feedspot', 'https://www.coastaljazz.ca/blog/?utm_source=feedspot', 'http://polish-jazz.blogspot.com?utm_source=feedspot', 'https://jazzfuel.com/jazz-blog/?utm_source=feedspot', 'https://www.openskyjazz.com/?utm_source=feedspot', 'https://www.vortexjazz.co.uk/news/?utm_source=feedspot', 'https://thebluemoment.com/category/jazz/?utm_source=feedspot', 'https://www.learnjazzstandards.com/category/blog/?utm_source=feedspot', 'https://debbieburkeauthor.com/?utm_source=feedspot', 'https://jazzaspensnowmass.org/blog/?utm_source=feedspot', 'https://news.jazzjournalists.org/?utm_source=feedspot', 'https://www.wzum.org/jazz-blog?utm_source=feedspot', 'http://jonmccaslinjazzdrummer.blogspot.com/?utm_source=feedspot', 'https://www.jazz24.org/category/jazz/news/?utm_source=feedspot', 'https://www.jazz-guitar-licks.com/blog/?utm_source=feedspot', 'https://simplyjazztalk.blog/?utm_source=feedspot', 'https://www.stringspace.com.au/news-blog2020/?utm_source=feedspot', 'https://www.freejazzlessons.com/jazz-blog/?utm_source=feedspot', 'https://phillyjazz.us/?utm_source=feedspot', 'https://traccedijazz.com/?utm_source=feedspot', 'https://jazztrail.net/blog?utm_source=feedspot', 'https://somehowjazz.com/blog/?utm_source=feedspot', 'http://canberrajazz.blogspot.com/?utm_source=feedspot', 'https://pdxjazz.com/news/?utm_source=feedspot', 'https://ausjazz.net/?utm_source=feedspot', 'https://tokyojazzsite.com/tjs-blog/?utm_source=feedspot', 'https://www.lancasterjazz.com/blog/?utm_source=feedspot', 'https://www.thejazzarts.org/news/blog/?utm_source=feedspot', 'http://gapplegatemusicreview.blogspot.com/?utm_source=feedspot', 'https://cleanfeed-records.com/blog/?utm_source=feedspot', 'https://www.caravanjazz.es/?utm_source=feedspot', 'https://ellingtonreflections.com/?utm_source=feedspot', 'https://www.decidedlyjazz.com/blog/?utm_source=feedspot', 'http://brilliantcornersabostonjazzblog.blogspot.com?utm_source=feedspot', 'https://jazzworkshopaustralia.com.au/blog/?utm_source=feedspot', 'https://www.spbb.org/jazz-news?utm_source=feedspot', 'https://jazzcloset.blogspot.com/?utm_source=feedspot', 'http://theneonjazz.blogspot.com/?utm_source=feedspot', 'https://bestofjazz.org/?utm_source=feedspot', 'https://jazzpromotionnetwork.org.uk/category/blog-post/?utm_source=feedspot', 'http://uglyrug.blogspot.com/?utm_source=feedspot', 'http://thejazzclarinet.blogspot.com/?utm_source=feedspot', 'https://jazzlocal32.com/author/jon4jaz/?utm_source=feedspot', 'https://jazzfromgeoff.blogspot.com/?utm_source=feedspot', 'http://www.kcjazzambassadors.org/blog?utm_source=feedspot']\n",
      "<class 'list'> [1600, 123700, 2000, 3500, 7800, 16000, 129100, 497400, 4800, 21600, 194700, 1900, 785300, 12800, 11400, 85500, 54600, 3300, 7400, 1300, 10700, 5200, 7900, 28600, 20000, 6600, 43000, 5300, 3600, 6400, 1400, 58100, 9600, 2100, 6600, 5500, 4800, 2600, 3200]\n",
      "<class 'list'> [3900, 1500, 1300, 51500, 1600, 11700, 92600, 19500, 4900, 56300, 249600, 11300, 135800, 18100, 31800, 11900, 1300, 28100, 14900, 3500, 11300, 12200, 5900, 1600, 25400, 25800, 1300, 2100, 4100, 7000, 2100, 2300, 1400, 2300, 2700, 2400, 1400, 3000, 1300, 1800, 1100, 1000]\n",
      "<class 'list'> [2400, 4100, 10400, 11000, 51200, 324500, 6800, 4900, 108800, 17300, 3100, 3700, 5800, 1500, 16400, 8000, 3900, 111600, 2400, 6400, 2100, 3400, 1200, 7000]\n"
     ]
    }
   ],
   "source": [
    "print(type(titre),titre)\n",
    "\n",
    "print(type(noms),noms)\n",
    "\n",
    "print(type(localisations), localisations)\n",
    "\n",
    "print(type(web), web)\n",
    "\n",
    "print(type(fbsub_numerique), fbsub_numerique)\n",
    "\n",
    "print(type(twitsub_numerique), twitsub_numerique)\n",
    "\n",
    "print(type(instasub_numerique), instasub_numerique)"
   ]
  },
  {
   "cell_type": "code",
   "execution_count": 47,
   "id": "e6c2682d",
   "metadata": {},
   "outputs": [
    {
     "data": {
      "text/plain": [
       "str"
      ]
     },
     "execution_count": 47,
     "metadata": {},
     "output_type": "execute_result"
    }
   ],
   "source": [
    "type(titre)"
   ]
  },
  {
   "cell_type": "code",
   "execution_count": 186,
   "id": "fa82f946",
   "metadata": {},
   "outputs": [],
   "source": [
    "chemin = r\"C:\\Users\\valen\\Desktop\\Python txt\\mon_fichier3.txt\"  # Assurez-vous que le chemin mène à un fichier, pas un dossier\n",
    "\n",
    "with open(chemin, \"a\") as f:  # \"a\" pour le mode append, ajoute au fichier s'il existe ou crée un nouveau fichier s'il n'existe pas\n",
    "    f.write(f\"{noms}\\n\")  # \\n permet de sauter une ligne, un deuxième \\n permet de laisser un espace\n",
    "    f.write(f\"{localisations}\\n\")\n",
    "    f.write(f\"{web}\\n\")\n",
    "    f.write(f\"{fbsub}\\n\")\n",
    "    f.write(f\"{twitsub}\\n\")\n",
    "    f.write(f\"{instasub}\\n\")"
   ]
  },
  {
   "cell_type": "code",
   "execution_count": 184,
   "id": "32d6f94c",
   "metadata": {},
   "outputs": [],
   "source": [
    "import os\n",
    "\n",
    "chemin = r\"C:\\Users\\valen\\Desktop\\Python txt\\mon_fichier2.txt\"\n",
    "with open(chemin, \"a\", encoding='utf-8') as fichier:\n",
    "    fichier.write(f\"{noms}\\n\")\n",
    "    fichier.write(f\"{localisations}\\n\")\n",
    "    fichier.write(f\"{web}\\n\")\n",
    "    fichier.write(f\"{fbsub_numerique}\\n\")\n",
    "    fichier.write(f\"{twitsub_numerique}\\n\")\n",
    "    fichier.write(f\"{instasub_numerique}\\n\")"
   ]
  },
  {
   "cell_type": "code",
   "execution_count": 9,
   "id": "d3667ee9",
   "metadata": {},
   "outputs": [
    {
     "ename": "NameError",
     "evalue": "name 'noms_propres' is not defined",
     "output_type": "error",
     "traceback": [
      "\u001b[1;31m---------------------------------------------------------------------------\u001b[0m",
      "\u001b[1;31mNameError\u001b[0m                                 Traceback (most recent call last)",
      "Cell \u001b[1;32mIn[9], line 4\u001b[0m\n\u001b[0;32m      1\u001b[0m chemin \u001b[38;5;241m=\u001b[39m \u001b[38;5;124mr\u001b[39m\u001b[38;5;124m\"\u001b[39m\u001b[38;5;124mC:\u001b[39m\u001b[38;5;124m\\\u001b[39m\u001b[38;5;124mUsers\u001b[39m\u001b[38;5;124m\\\u001b[39m\u001b[38;5;124mvalen\u001b[39m\u001b[38;5;124m\\\u001b[39m\u001b[38;5;124mDesktop\u001b[39m\u001b[38;5;124m\\\u001b[39m\u001b[38;5;124mPython txt\u001b[39m\u001b[38;5;124m\\\u001b[39m\u001b[38;5;124mmon_fichier2.txt\u001b[39m\u001b[38;5;124m\"\u001b[39m\n\u001b[0;32m      3\u001b[0m \u001b[38;5;66;03m# S'assurer que toutes les listes ont la même longueur\u001b[39;00m\n\u001b[1;32m----> 4\u001b[0m min_length \u001b[38;5;241m=\u001b[39m \u001b[38;5;28mmin\u001b[39m(\u001b[38;5;28mlen\u001b[39m(noms_propres), \u001b[38;5;28mlen\u001b[39m(localisations), \u001b[38;5;28mlen\u001b[39m(web), \u001b[38;5;28mlen\u001b[39m(fbsub_numerique), \u001b[38;5;28mlen\u001b[39m(twitsub_numerique), \u001b[38;5;28mlen\u001b[39m(instasub_numerique))\n\u001b[0;32m      6\u001b[0m \u001b[38;5;28;01mwith\u001b[39;00m \u001b[38;5;28mopen\u001b[39m(chemin, \u001b[38;5;124m\"\u001b[39m\u001b[38;5;124ma\u001b[39m\u001b[38;5;124m\"\u001b[39m, encoding\u001b[38;5;241m=\u001b[39m\u001b[38;5;124m'\u001b[39m\u001b[38;5;124mutf-8\u001b[39m\u001b[38;5;124m'\u001b[39m) \u001b[38;5;28;01mas\u001b[39;00m fichier:\n\u001b[0;32m      7\u001b[0m     \u001b[38;5;28;01mfor\u001b[39;00m i \u001b[38;5;129;01min\u001b[39;00m \u001b[38;5;28mrange\u001b[39m(min_length):\n",
      "\u001b[1;31mNameError\u001b[0m: name 'noms_propres' is not defined"
     ]
    }
   ],
   "source": [
    "chemin = r\"C:\\Users\\valen\\Desktop\\Python txt\\mon_fichier2.txt\"\n",
    "\n",
    "# S'assurer que toutes les listes ont la même longueur\n",
    "min_length = min(len(noms_propres), len(localisations), len(web), len(fbsub_numerique), len(twitsub_numerique), len(instasub_numerique))\n",
    "\n",
    "with open(chemin, \"a\", encoding='utf-8') as fichier:\n",
    "    for i in range(min_length):\n",
    "        fichier.write(f\"Nom: {noms_propres[i]}\\n\")\n",
    "        fichier.write(f\"Localisation: {localisations[i]}\\n\")\n",
    "        fichier.write(f\"Web: {web[i]}\\n\")\n",
    "        fichier.write(f\"Facebook: {fbsub_numerique[i] if i < len(fbsub_numerique) else 'N/A'}\\n\")\n",
    "        fichier.write(f\"Twitter: {twitsub_numerique[i] if i < len(twitsub_numerique) else 'N/A'}\\n\")\n",
    "        fichier.write(f\"Instagram: {instasub_numerique[i] if i < len(instasub_numerique) else 'N/A'}\\n\")\n",
    "        fichier.write(\"\\n\")  # Ajoute un saut de ligne pour séparer les paragraphes"
   ]
  }
 ],
 "metadata": {
  "kernelspec": {
   "display_name": "Python 3 (ipykernel)",
   "language": "python",
   "name": "python3"
  },
  "language_info": {
   "codemirror_mode": {
    "name": "ipython",
    "version": 3
   },
   "file_extension": ".py",
   "mimetype": "text/x-python",
   "name": "python",
   "nbconvert_exporter": "python",
   "pygments_lexer": "ipython3",
   "version": "3.11.5"
  }
 },
 "nbformat": 4,
 "nbformat_minor": 5
}
